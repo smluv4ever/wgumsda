{
 "cells": [
  {
   "cell_type": "code",
   "execution_count": null,
   "id": "5b74c18b",
   "metadata": {},
   "outputs": [],
   "source": [
    "#import packages\n",
    "import pandas as pd\n",
    "import numpy as np\n",
    "import matplotlib.pyplot as plt\n",
    "import missingno as msno\n",
    "import seaborn\n",
    "import statistics"
   ]
  },
  {
   "cell_type": "code",
   "execution_count": null,
   "id": "589d9325",
   "metadata": {},
   "outputs": [],
   "source": [
    "#read the churn csv file then call info() function to check the datatype and the missing values\n",
    "df = pd.read_csv(r'C:\\Users\\Saemi\\OneDrive\\Education\\WGU\\D206 Data Cleaning\\PA\\Medical Data and Dictionary Files\\medical_raw_data.csv')"
   ]
  },
  {
   "cell_type": "code",
   "execution_count": null,
   "id": "48adf5c2",
   "metadata": {},
   "outputs": [],
   "source": [
    "df.info()"
   ]
  },
  {
   "cell_type": "code",
   "execution_count": null,
   "id": "ea76d297",
   "metadata": {},
   "outputs": [],
   "source": [
    "#check if there is any duplicates\n",
    "print(df.duplicated().value_counts())"
   ]
  },
  {
   "cell_type": "code",
   "execution_count": null,
   "id": "7ee3b26f",
   "metadata": {},
   "outputs": [],
   "source": [
    "#verify if the CaseOrder, Customer_id, and Interaction columns are unique (result should be 10000 for no dupliates)\n",
    "df.CaseOrder.value_counts().count()"
   ]
  },
  {
   "cell_type": "code",
   "execution_count": null,
   "id": "f1e43423",
   "metadata": {},
   "outputs": [],
   "source": [
    "df.Customer_id.value_counts().count()"
   ]
  },
  {
   "cell_type": "code",
   "execution_count": null,
   "id": "eeb18ccc",
   "metadata": {},
   "outputs": [],
   "source": [
    "df.Interaction.value_counts().count()"
   ]
  },
  {
   "cell_type": "code",
   "execution_count": null,
   "id": "66fda92b",
   "metadata": {},
   "outputs": [],
   "source": [
    "df.UID.value_counts().count()"
   ]
  },
  {
   "cell_type": "code",
   "execution_count": null,
   "id": "01e83a8a",
   "metadata": {},
   "outputs": [],
   "source": [
    "#Spot for the number of null values\n",
    "df.isnull().sum()"
   ]
  },
  {
   "cell_type": "code",
   "execution_count": null,
   "id": "75074d83",
   "metadata": {},
   "outputs": [],
   "source": [
    "#visualize the dataset with missingno\n",
    "msno.matrix(df, fontsize=12, labels=True)\n",
    "plt.title('Missing Data Matrix')\n",
    "plt.show()"
   ]
  },
  {
   "cell_type": "code",
   "execution_count": null,
   "id": "9a3d1cd9",
   "metadata": {},
   "outputs": [],
   "source": [
    "#visualize the quantitative columns with the missing data to determine how to fill the NAs\n",
    "plt.hist(df['Children'])"
   ]
  },
  {
   "cell_type": "code",
   "execution_count": null,
   "id": "946cf4cf",
   "metadata": {},
   "outputs": [],
   "source": [
    "plt.hist(df['Age'])"
   ]
  },
  {
   "cell_type": "code",
   "execution_count": null,
   "id": "cc49d460",
   "metadata": {},
   "outputs": [],
   "source": [
    "plt.hist(df['Income'])"
   ]
  },
  {
   "cell_type": "code",
   "execution_count": null,
   "id": "4f870c55",
   "metadata": {},
   "outputs": [],
   "source": [
    "plt.hist(df['Initial_days'])"
   ]
  },
  {
   "cell_type": "code",
   "execution_count": null,
   "id": "217267b7",
   "metadata": {},
   "outputs": [],
   "source": [
    "#check if there is any outliers for all the quantitative columns\n",
    "boxplot = seaborn.boxplot(x='CaseOrder', data=df)"
   ]
  },
  {
   "cell_type": "code",
   "execution_count": null,
   "id": "b0b1663f",
   "metadata": {},
   "outputs": [],
   "source": [
    "boxplot = seaborn.boxplot(x='Lat', data=df)"
   ]
  },
  {
   "cell_type": "code",
   "execution_count": null,
   "id": "ea636905",
   "metadata": {},
   "outputs": [],
   "source": [
    "boxplot = seaborn.boxplot(x='Lng', data=df)"
   ]
  },
  {
   "cell_type": "code",
   "execution_count": null,
   "id": "d34a291c",
   "metadata": {},
   "outputs": [],
   "source": [
    "boxplot = seaborn.boxplot(x='Population', data=df)"
   ]
  },
  {
   "cell_type": "code",
   "execution_count": null,
   "id": "4f0a574e",
   "metadata": {},
   "outputs": [],
   "source": [
    "boxplot = seaborn.boxplot(x='Children', data=df)"
   ]
  },
  {
   "cell_type": "code",
   "execution_count": null,
   "id": "d9987ad4",
   "metadata": {},
   "outputs": [],
   "source": [
    "boxplot = seaborn.boxplot(x='Age', data=df)"
   ]
  },
  {
   "cell_type": "code",
   "execution_count": null,
   "id": "f40fef28",
   "metadata": {},
   "outputs": [],
   "source": [
    "boxplot = seaborn.boxplot(x='Income', data=df)"
   ]
  },
  {
   "cell_type": "code",
   "execution_count": null,
   "id": "fff82ee0",
   "metadata": {},
   "outputs": [],
   "source": [
    "boxplot = seaborn.boxplot(x='VitD_levels', data=df)"
   ]
  },
  {
   "cell_type": "code",
   "execution_count": null,
   "id": "7f1d1574",
   "metadata": {},
   "outputs": [],
   "source": [
    "boxplot = seaborn.boxplot(x='Doc_visits', data=df)"
   ]
  },
  {
   "cell_type": "code",
   "execution_count": null,
   "id": "e1dcdb57",
   "metadata": {},
   "outputs": [],
   "source": [
    "boxplot = seaborn.boxplot(x='Full_meals_eaten', data=df)"
   ]
  },
  {
   "cell_type": "code",
   "execution_count": null,
   "id": "460b85e5",
   "metadata": {},
   "outputs": [],
   "source": [
    "boxplot = seaborn.boxplot(x='VitD_supp', data=df)"
   ]
  },
  {
   "cell_type": "code",
   "execution_count": null,
   "id": "fedeef75",
   "metadata": {},
   "outputs": [],
   "source": [
    "#Check the categorical values for the following columns for re-expression\n",
    "df['Area'].unique()"
   ]
  },
  {
   "cell_type": "code",
   "execution_count": null,
   "id": "f6ede2c0",
   "metadata": {},
   "outputs": [],
   "source": [
    "df['Timezone'].unique()"
   ]
  },
  {
   "cell_type": "code",
   "execution_count": null,
   "id": "60676833",
   "metadata": {},
   "outputs": [],
   "source": [
    "df['Education'].unique()"
   ]
  },
  {
   "cell_type": "code",
   "execution_count": null,
   "id": "d2c2f292",
   "metadata": {},
   "outputs": [],
   "source": [
    "df['Employment'].unique()"
   ]
  },
  {
   "cell_type": "code",
   "execution_count": null,
   "id": "42451b41",
   "metadata": {},
   "outputs": [],
   "source": [
    "df['Marital'].unique()"
   ]
  },
  {
   "cell_type": "code",
   "execution_count": null,
   "id": "1e7a7fb7",
   "metadata": {},
   "outputs": [],
   "source": [
    "df['Gender'].unique()"
   ]
  },
  {
   "cell_type": "code",
   "execution_count": null,
   "id": "86d1c94e",
   "metadata": {},
   "outputs": [],
   "source": [
    "df['ReAdmis'].unique()"
   ]
  },
  {
   "cell_type": "code",
   "execution_count": null,
   "id": "259ac39a",
   "metadata": {},
   "outputs": [],
   "source": [
    "df['Soft_drink'].unique()"
   ]
  },
  {
   "cell_type": "code",
   "execution_count": null,
   "id": "c2fe2415",
   "metadata": {},
   "outputs": [],
   "source": [
    "df['Initial_admin'].unique()"
   ]
  },
  {
   "cell_type": "code",
   "execution_count": null,
   "id": "a9ef617d",
   "metadata": {},
   "outputs": [],
   "source": [
    "df['HighBlood'].unique()"
   ]
  },
  {
   "cell_type": "code",
   "execution_count": null,
   "id": "44647619",
   "metadata": {},
   "outputs": [],
   "source": [
    "df['Stroke'].unique()"
   ]
  },
  {
   "cell_type": "code",
   "execution_count": null,
   "id": "d632847d",
   "metadata": {},
   "outputs": [],
   "source": [
    "df['Complication_risk'].unique()"
   ]
  },
  {
   "cell_type": "code",
   "execution_count": null,
   "id": "82ad86e9",
   "metadata": {},
   "outputs": [],
   "source": [
    "df['Overweight'].unique()"
   ]
  },
  {
   "cell_type": "code",
   "execution_count": null,
   "id": "aa9d6f95",
   "metadata": {},
   "outputs": [],
   "source": [
    "df['Arthritis'].unique()"
   ]
  },
  {
   "cell_type": "code",
   "execution_count": null,
   "id": "71c75610",
   "metadata": {},
   "outputs": [],
   "source": [
    "df['Diabetes'].unique()"
   ]
  },
  {
   "cell_type": "code",
   "execution_count": null,
   "id": "a22ff32a",
   "metadata": {},
   "outputs": [],
   "source": [
    "df['Hyperlipidemia'].unique()"
   ]
  },
  {
   "cell_type": "code",
   "execution_count": null,
   "id": "97936b33",
   "metadata": {},
   "outputs": [],
   "source": [
    "df['BackPain'].unique()"
   ]
  },
  {
   "cell_type": "code",
   "execution_count": null,
   "id": "91c2c19c",
   "metadata": {},
   "outputs": [],
   "source": [
    "df['Anxiety'].unique()"
   ]
  },
  {
   "cell_type": "code",
   "execution_count": null,
   "id": "1ddcb0aa",
   "metadata": {},
   "outputs": [],
   "source": [
    "df['Allergic_rhinitis'].unique()"
   ]
  },
  {
   "cell_type": "code",
   "execution_count": null,
   "id": "338e2998",
   "metadata": {},
   "outputs": [],
   "source": [
    "df['Reflux_esophagitis'].unique()"
   ]
  },
  {
   "cell_type": "code",
   "execution_count": null,
   "id": "67822e1d",
   "metadata": {},
   "outputs": [],
   "source": [
    "df['Asthma'].unique()"
   ]
  },
  {
   "cell_type": "code",
   "execution_count": null,
   "id": "815f8ea3",
   "metadata": {},
   "outputs": [],
   "source": [
    "df['Services'].unique()"
   ]
  },
  {
   "cell_type": "code",
   "execution_count": null,
   "id": "2b504764",
   "metadata": {},
   "outputs": [],
   "source": [
    "df['Item1'].unique()"
   ]
  },
  {
   "cell_type": "code",
   "execution_count": null,
   "id": "ae4a0bc5",
   "metadata": {},
   "outputs": [],
   "source": [
    "df['Item2'].unique()"
   ]
  },
  {
   "cell_type": "code",
   "execution_count": null,
   "id": "94bcf00c",
   "metadata": {},
   "outputs": [],
   "source": [
    "df['Item3'].unique()"
   ]
  },
  {
   "cell_type": "code",
   "execution_count": null,
   "id": "8808a171",
   "metadata": {},
   "outputs": [],
   "source": [
    "df['Item4'].unique()"
   ]
  },
  {
   "cell_type": "code",
   "execution_count": null,
   "id": "8f4ddc02",
   "metadata": {},
   "outputs": [],
   "source": [
    "df['Item5'].unique()"
   ]
  },
  {
   "cell_type": "code",
   "execution_count": null,
   "id": "bd674f05",
   "metadata": {},
   "outputs": [],
   "source": [
    "df['Item6'].unique()"
   ]
  },
  {
   "cell_type": "code",
   "execution_count": null,
   "id": "3d00038b",
   "metadata": {},
   "outputs": [],
   "source": [
    "df['Item7'].unique()"
   ]
  },
  {
   "cell_type": "code",
   "execution_count": null,
   "id": "ef8a1654",
   "metadata": {},
   "outputs": [],
   "source": [
    "df['Item8'].unique()"
   ]
  }
 ],
 "metadata": {
  "kernelspec": {
   "display_name": "Python 3 (ipykernel)",
   "language": "python",
   "name": "python3"
  },
  "language_info": {
   "codemirror_mode": {
    "name": "ipython",
    "version": 3
   },
   "file_extension": ".py",
   "mimetype": "text/x-python",
   "name": "python",
   "nbconvert_exporter": "python",
   "pygments_lexer": "ipython3",
   "version": "3.11.7"
  }
 },
 "nbformat": 4,
 "nbformat_minor": 5
}
