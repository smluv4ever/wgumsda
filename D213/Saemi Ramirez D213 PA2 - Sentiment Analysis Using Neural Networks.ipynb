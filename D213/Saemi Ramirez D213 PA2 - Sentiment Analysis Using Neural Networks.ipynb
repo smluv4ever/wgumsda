{
 "cells": [
  {
   "cell_type": "code",
   "execution_count": 1,
   "id": "595c7422",
   "metadata": {
    "scrolled": true
   },
   "outputs": [
    {
     "name": "stdout",
     "output_type": "stream",
     "text": [
      "Requirement already satisfied: TensorFlow in c:\\users\\saemi\\anaconda3\\lib\\site-packages (2.18.0)\n",
      "Requirement already satisfied: tensorflow-intel==2.18.0 in c:\\users\\saemi\\anaconda3\\lib\\site-packages (from TensorFlow) (2.18.0)\n",
      "Requirement already satisfied: absl-py>=1.0.0 in c:\\users\\saemi\\anaconda3\\lib\\site-packages (from tensorflow-intel==2.18.0->TensorFlow) (2.1.0)\n",
      "Requirement already satisfied: astunparse>=1.6.0 in c:\\users\\saemi\\anaconda3\\lib\\site-packages (from tensorflow-intel==2.18.0->TensorFlow) (1.6.3)\n",
      "Requirement already satisfied: flatbuffers>=24.3.25 in c:\\users\\saemi\\anaconda3\\lib\\site-packages (from tensorflow-intel==2.18.0->TensorFlow) (24.3.25)\n",
      "Requirement already satisfied: gast!=0.5.0,!=0.5.1,!=0.5.2,>=0.2.1 in c:\\users\\saemi\\anaconda3\\lib\\site-packages (from tensorflow-intel==2.18.0->TensorFlow) (0.6.0)\n",
      "Requirement already satisfied: google-pasta>=0.1.1 in c:\\users\\saemi\\anaconda3\\lib\\site-packages (from tensorflow-intel==2.18.0->TensorFlow) (0.2.0)\n",
      "Requirement already satisfied: libclang>=13.0.0 in c:\\users\\saemi\\anaconda3\\lib\\site-packages (from tensorflow-intel==2.18.0->TensorFlow) (18.1.1)\n",
      "Requirement already satisfied: opt-einsum>=2.3.2 in c:\\users\\saemi\\anaconda3\\lib\\site-packages (from tensorflow-intel==2.18.0->TensorFlow) (3.4.0)\n",
      "Requirement already satisfied: packaging in c:\\users\\saemi\\anaconda3\\lib\\site-packages (from tensorflow-intel==2.18.0->TensorFlow) (23.1)\n",
      "Requirement already satisfied: protobuf!=4.21.0,!=4.21.1,!=4.21.2,!=4.21.3,!=4.21.4,!=4.21.5,<6.0.0dev,>=3.20.3 in c:\\users\\saemi\\anaconda3\\lib\\site-packages (from tensorflow-intel==2.18.0->TensorFlow) (3.20.3)\n",
      "Requirement already satisfied: requests<3,>=2.21.0 in c:\\users\\saemi\\anaconda3\\lib\\site-packages (from tensorflow-intel==2.18.0->TensorFlow) (2.31.0)\n",
      "Requirement already satisfied: setuptools in c:\\users\\saemi\\anaconda3\\lib\\site-packages (from tensorflow-intel==2.18.0->TensorFlow) (68.2.2)\n",
      "Requirement already satisfied: six>=1.12.0 in c:\\users\\saemi\\anaconda3\\lib\\site-packages (from tensorflow-intel==2.18.0->TensorFlow) (1.16.0)\n",
      "Requirement already satisfied: termcolor>=1.1.0 in c:\\users\\saemi\\anaconda3\\lib\\site-packages (from tensorflow-intel==2.18.0->TensorFlow) (2.5.0)\n",
      "Requirement already satisfied: typing-extensions>=3.6.6 in c:\\users\\saemi\\anaconda3\\lib\\site-packages (from tensorflow-intel==2.18.0->TensorFlow) (4.9.0)\n",
      "Requirement already satisfied: wrapt>=1.11.0 in c:\\users\\saemi\\anaconda3\\lib\\site-packages (from tensorflow-intel==2.18.0->TensorFlow) (1.14.1)\n",
      "Requirement already satisfied: grpcio<2.0,>=1.24.3 in c:\\users\\saemi\\anaconda3\\lib\\site-packages (from tensorflow-intel==2.18.0->TensorFlow) (1.66.2)\n",
      "Requirement already satisfied: tensorboard<2.19,>=2.18 in c:\\users\\saemi\\anaconda3\\lib\\site-packages (from tensorflow-intel==2.18.0->TensorFlow) (2.18.0)\n",
      "Requirement already satisfied: keras>=3.5.0 in c:\\users\\saemi\\anaconda3\\lib\\site-packages (from tensorflow-intel==2.18.0->TensorFlow) (3.6.0)\n",
      "Requirement already satisfied: numpy<2.1.0,>=1.26.0 in c:\\users\\saemi\\anaconda3\\lib\\site-packages (from tensorflow-intel==2.18.0->TensorFlow) (1.26.4)\n",
      "Requirement already satisfied: h5py>=3.11.0 in c:\\users\\saemi\\anaconda3\\lib\\site-packages (from tensorflow-intel==2.18.0->TensorFlow) (3.12.1)\n",
      "Requirement already satisfied: ml-dtypes<0.5.0,>=0.4.0 in c:\\users\\saemi\\anaconda3\\lib\\site-packages (from tensorflow-intel==2.18.0->TensorFlow) (0.4.1)\n",
      "Requirement already satisfied: tensorflow-io-gcs-filesystem>=0.23.1 in c:\\users\\saemi\\anaconda3\\lib\\site-packages (from tensorflow-intel==2.18.0->TensorFlow) (0.31.0)\n",
      "Requirement already satisfied: wheel<1.0,>=0.23.0 in c:\\users\\saemi\\anaconda3\\lib\\site-packages (from astunparse>=1.6.0->tensorflow-intel==2.18.0->TensorFlow) (0.41.2)\n",
      "Requirement already satisfied: rich in c:\\users\\saemi\\anaconda3\\lib\\site-packages (from keras>=3.5.0->tensorflow-intel==2.18.0->TensorFlow) (13.3.5)\n",
      "Requirement already satisfied: namex in c:\\users\\saemi\\anaconda3\\lib\\site-packages (from keras>=3.5.0->tensorflow-intel==2.18.0->TensorFlow) (0.0.8)\n",
      "Requirement already satisfied: optree in c:\\users\\saemi\\anaconda3\\lib\\site-packages (from keras>=3.5.0->tensorflow-intel==2.18.0->TensorFlow) (0.13.0)\n",
      "Requirement already satisfied: charset-normalizer<4,>=2 in c:\\users\\saemi\\anaconda3\\lib\\site-packages (from requests<3,>=2.21.0->tensorflow-intel==2.18.0->TensorFlow) (2.0.4)\n",
      "Requirement already satisfied: idna<4,>=2.5 in c:\\users\\saemi\\anaconda3\\lib\\site-packages (from requests<3,>=2.21.0->tensorflow-intel==2.18.0->TensorFlow) (3.4)\n",
      "Requirement already satisfied: urllib3<3,>=1.21.1 in c:\\users\\saemi\\anaconda3\\lib\\site-packages (from requests<3,>=2.21.0->tensorflow-intel==2.18.0->TensorFlow) (2.0.7)\n",
      "Requirement already satisfied: certifi>=2017.4.17 in c:\\users\\saemi\\anaconda3\\lib\\site-packages (from requests<3,>=2.21.0->tensorflow-intel==2.18.0->TensorFlow) (2024.2.2)\n",
      "Requirement already satisfied: markdown>=2.6.8 in c:\\users\\saemi\\anaconda3\\lib\\site-packages (from tensorboard<2.19,>=2.18->tensorflow-intel==2.18.0->TensorFlow) (3.4.1)\n",
      "Requirement already satisfied: tensorboard-data-server<0.8.0,>=0.7.0 in c:\\users\\saemi\\anaconda3\\lib\\site-packages (from tensorboard<2.19,>=2.18->tensorflow-intel==2.18.0->TensorFlow) (0.7.2)\n",
      "Requirement already satisfied: werkzeug>=1.0.1 in c:\\users\\saemi\\anaconda3\\lib\\site-packages (from tensorboard<2.19,>=2.18->tensorflow-intel==2.18.0->TensorFlow) (2.2.3)\n",
      "Requirement already satisfied: MarkupSafe>=2.1.1 in c:\\users\\saemi\\anaconda3\\lib\\site-packages (from werkzeug>=1.0.1->tensorboard<2.19,>=2.18->tensorflow-intel==2.18.0->TensorFlow) (2.1.3)\n",
      "Requirement already satisfied: markdown-it-py<3.0.0,>=2.2.0 in c:\\users\\saemi\\anaconda3\\lib\\site-packages (from rich->keras>=3.5.0->tensorflow-intel==2.18.0->TensorFlow) (2.2.0)\n",
      "Requirement already satisfied: pygments<3.0.0,>=2.13.0 in c:\\users\\saemi\\anaconda3\\lib\\site-packages (from rich->keras>=3.5.0->tensorflow-intel==2.18.0->TensorFlow) (2.15.1)\n",
      "Requirement already satisfied: mdurl~=0.1 in c:\\users\\saemi\\anaconda3\\lib\\site-packages (from markdown-it-py<3.0.0,>=2.2.0->rich->keras>=3.5.0->tensorflow-intel==2.18.0->TensorFlow) (0.1.0)\n"
     ]
    }
   ],
   "source": [
    "!python -m pip install --upgrade TensorFlow"
   ]
  },
  {
   "cell_type": "code",
   "execution_count": 27,
   "id": "9ac0cf1c",
   "metadata": {},
   "outputs": [],
   "source": [
    "#Import needed libraries\n",
    "import nltk\n",
    "from nltk.corpus import stopwords\n",
    "import matplotlib.pyplot as plt\n",
    "import numpy as np\n",
    "import pandas as pd\n",
    "import seaborn as sns\n",
    "import re\n",
    "import sys\n",
    "import tensorflow as tf\n",
    "from tensorflow.keras.models import load_model \n",
    "from tensorflow.keras.preprocessing.sequence import pad_sequences\n",
    "from tensorflow.keras.preprocessing.text import Tokenizer"
   ]
  },
  {
   "cell_type": "code",
   "execution_count": 4,
   "id": "51d2450f",
   "metadata": {},
   "outputs": [
    {
     "data": {
      "text/plain": [
       "(2748, 3)"
      ]
     },
     "execution_count": 4,
     "metadata": {},
     "output_type": "execute_result"
    }
   ],
   "source": [
    "#Import the data from Amazon, IMDB, and Yelp\n",
    "amazon = pd.read_csv(r'C:\\Users\\Saemi\\OneDrive\\Education\\WGU\\D213 Advanced Data Analytics\\PA\\PA2 Sentiment Analysis Using Neural Networks\\sentiment labelled sentences\\amazon_cells_labelled.txt', delimiter='\\t', header=None, names=['Reviews', 'Sentiment'])\n",
    "amazon['Source'] = 'Amazon'\n",
    "imdb = pd.read_csv(r'C:\\Users\\Saemi\\OneDrive\\Education\\WGU\\D213 Advanced Data Analytics\\PA\\PA2 Sentiment Analysis Using Neural Networks\\sentiment labelled sentences\\imdb_labelled.txt', delimiter='\\t', header=None, names=['Reviews', 'Sentiment'])\n",
    "imdb['Source'] = 'IMDB'\n",
    "yelp = pd.read_csv(r'C:\\Users\\Saemi\\OneDrive\\Education\\WGU\\D213 Advanced Data Analytics\\PA\\PA2 Sentiment Analysis Using Neural Networks\\sentiment labelled sentences\\yelp_labelled.txt', delimiter='\\t', header=None, names=['Reviews', 'Sentiment'])\n",
    "yelp['Source'] = 'Yelp'\n",
    "df = pd.concat([amazon, imdb, yelp], ignore_index=True)\n",
    "df.columns = ['Reviews', 'Sentiment', 'Source']\n",
    "df.Sentiment = df.Sentiment.astype(int)\n",
    "\n",
    "df.shape"
   ]
  },
  {
   "cell_type": "code",
   "execution_count": 5,
   "id": "8d87cfa9",
   "metadata": {},
   "outputs": [
    {
     "data": {
      "text/html": [
       "<div>\n",
       "<style scoped>\n",
       "    .dataframe tbody tr th:only-of-type {\n",
       "        vertical-align: middle;\n",
       "    }\n",
       "\n",
       "    .dataframe tbody tr th {\n",
       "        vertical-align: top;\n",
       "    }\n",
       "\n",
       "    .dataframe thead th {\n",
       "        text-align: right;\n",
       "    }\n",
       "</style>\n",
       "<table border=\"1\" class=\"dataframe\">\n",
       "  <thead>\n",
       "    <tr style=\"text-align: right;\">\n",
       "      <th></th>\n",
       "      <th>Reviews</th>\n",
       "      <th>Sentiment</th>\n",
       "      <th>Source</th>\n",
       "    </tr>\n",
       "  </thead>\n",
       "  <tbody>\n",
       "    <tr>\n",
       "      <th>0</th>\n",
       "      <td>So there is no way for me to plug it in here i...</td>\n",
       "      <td>0</td>\n",
       "      <td>Amazon</td>\n",
       "    </tr>\n",
       "    <tr>\n",
       "      <th>1</th>\n",
       "      <td>Good case, Excellent value.</td>\n",
       "      <td>1</td>\n",
       "      <td>Amazon</td>\n",
       "    </tr>\n",
       "    <tr>\n",
       "      <th>2</th>\n",
       "      <td>Great for the jawbone.</td>\n",
       "      <td>1</td>\n",
       "      <td>Amazon</td>\n",
       "    </tr>\n",
       "    <tr>\n",
       "      <th>3</th>\n",
       "      <td>Tied to charger for conversations lasting more...</td>\n",
       "      <td>0</td>\n",
       "      <td>Amazon</td>\n",
       "    </tr>\n",
       "    <tr>\n",
       "      <th>4</th>\n",
       "      <td>The mic is great.</td>\n",
       "      <td>1</td>\n",
       "      <td>Amazon</td>\n",
       "    </tr>\n",
       "  </tbody>\n",
       "</table>\n",
       "</div>"
      ],
      "text/plain": [
       "                                             Reviews  Sentiment  Source\n",
       "0  So there is no way for me to plug it in here i...          0  Amazon\n",
       "1                        Good case, Excellent value.          1  Amazon\n",
       "2                             Great for the jawbone.          1  Amazon\n",
       "3  Tied to charger for conversations lasting more...          0  Amazon\n",
       "4                                  The mic is great.          1  Amazon"
      ]
     },
     "execution_count": 5,
     "metadata": {},
     "output_type": "execute_result"
    }
   ],
   "source": [
    "df.head()"
   ]
  },
  {
   "cell_type": "code",
   "execution_count": 28,
   "id": "cf48a8ce",
   "metadata": {
    "scrolled": true
   },
   "outputs": [
    {
     "data": {
      "text/plain": [
       "<Axes: xlabel='Sentiment', ylabel='count'>"
      ]
     },
     "execution_count": 28,
     "metadata": {},
     "output_type": "execute_result"
    },
    {
     "data": {
      "image/png": "[encoded data removed]",
      "text/plain": [
       "<Figure size 640x480 with 1 Axes>"
      ]
     },
     "metadata": {},
     "output_type": "display_data"
    }
   ],
   "source": [
    "sns.countplot(df, x='Sentiment', hue='Source') #seaborn.countplot"
   ]
  },
  {
   "cell_type": "code",
   "execution_count": 7,
   "id": "8537d599",
   "metadata": {},
   "outputs": [
    {
     "name": "stderr",
     "output_type": "stream",
     "text": [
      "[nltk_data] Downloading package stopwords to\n",
      "[nltk_data]     C:\\Users\\Saemi\\AppData\\Roaming\\nltk_data...\n",
      "[nltk_data]   Package stopwords is already up-to-date!\n",
      "[nltk_data] Downloading package punkt to\n",
      "[nltk_data]     C:\\Users\\Saemi\\AppData\\Roaming\\nltk_data...\n",
      "[nltk_data]   Package punkt is already up-to-date!\n",
      "[nltk_data] Downloading package wordnet to\n",
      "[nltk_data]     C:\\Users\\Saemi\\AppData\\Roaming\\nltk_data...\n",
      "[nltk_data]   Package wordnet is already up-to-date!\n"
     ]
    },
    {
     "data": {
      "text/html": [
       "<div>\n",
       "<style scoped>\n",
       "    .dataframe tbody tr th:only-of-type {\n",
       "        vertical-align: middle;\n",
       "    }\n",
       "\n",
       "    .dataframe tbody tr th {\n",
       "        vertical-align: top;\n",
       "    }\n",
       "\n",
       "    .dataframe thead th {\n",
       "        text-align: right;\n",
       "    }\n",
       "</style>\n",
       "<table border=\"1\" class=\"dataframe\">\n",
       "  <thead>\n",
       "    <tr style=\"text-align: right;\">\n",
       "      <th></th>\n",
       "      <th>Reviews</th>\n",
       "      <th>Sentiment</th>\n",
       "      <th>Source</th>\n",
       "      <th>Tokenized</th>\n",
       "      <th>No_Stopwords</th>\n",
       "      <th>Frequent</th>\n",
       "    </tr>\n",
       "  </thead>\n",
       "  <tbody>\n",
       "    <tr>\n",
       "      <th>0</th>\n",
       "      <td>So there is no way for me to plug it in here i...</td>\n",
       "      <td>0</td>\n",
       "      <td>Amazon</td>\n",
       "      <td>[so, there, is, no, way, for, me, to, plug, it...</td>\n",
       "      <td>[way, plug, u, unless, go, converter]</td>\n",
       "      <td>plug unless converter</td>\n",
       "    </tr>\n",
       "    <tr>\n",
       "      <th>1</th>\n",
       "      <td>Good case, Excellent value.</td>\n",
       "      <td>1</td>\n",
       "      <td>Amazon</td>\n",
       "      <td>[good, case, excellent, value]</td>\n",
       "      <td>[good, case, excellent, value]</td>\n",
       "      <td>good case excellent value</td>\n",
       "    </tr>\n",
       "    <tr>\n",
       "      <th>2</th>\n",
       "      <td>Great for the jawbone.</td>\n",
       "      <td>1</td>\n",
       "      <td>Amazon</td>\n",
       "      <td>[great, for, the, jawbone]</td>\n",
       "      <td>[great, jawbone]</td>\n",
       "      <td>great jawbone</td>\n",
       "    </tr>\n",
       "    <tr>\n",
       "      <th>3</th>\n",
       "      <td>Tied to charger for conversations lasting more...</td>\n",
       "      <td>0</td>\n",
       "      <td>Amazon</td>\n",
       "      <td>[tied, to, charger, for, conversation, lasting...</td>\n",
       "      <td>[tied, charger, conversation, lasting, 45, min...</td>\n",
       "      <td>tied charger conversation lasting minute major...</td>\n",
       "    </tr>\n",
       "    <tr>\n",
       "      <th>4</th>\n",
       "      <td>The mic is great.</td>\n",
       "      <td>1</td>\n",
       "      <td>Amazon</td>\n",
       "      <td>[the, mic, is, great]</td>\n",
       "      <td>[mic, great]</td>\n",
       "      <td>great</td>\n",
       "    </tr>\n",
       "    <tr>\n",
       "      <th>5</th>\n",
       "      <td>I have to jiggle the plug to get it to line up...</td>\n",
       "      <td>0</td>\n",
       "      <td>Amazon</td>\n",
       "      <td>[i, have, to, jiggle, the, plug, to, get, it, ...</td>\n",
       "      <td>[jiggle, plug, get, line, right, get, decent, ...</td>\n",
       "      <td>jiggle plug line right decent volume</td>\n",
       "    </tr>\n",
       "    <tr>\n",
       "      <th>6</th>\n",
       "      <td>If you have several dozen or several hundred c...</td>\n",
       "      <td>0</td>\n",
       "      <td>Amazon</td>\n",
       "      <td>[if, you, have, several, dozen, or, several, h...</td>\n",
       "      <td>[several, dozen, several, hundred, contact, im...</td>\n",
       "      <td>several dozen several hundred contact imagine ...</td>\n",
       "    </tr>\n",
       "    <tr>\n",
       "      <th>7</th>\n",
       "      <td>If you are Razr owner...you must have this!</td>\n",
       "      <td>1</td>\n",
       "      <td>Amazon</td>\n",
       "      <td>[if, you, are, razr, owner, you, must, have, t...</td>\n",
       "      <td>[razr, owner, must]</td>\n",
       "      <td>razr owner must</td>\n",
       "    </tr>\n",
       "    <tr>\n",
       "      <th>8</th>\n",
       "      <td>Needless to say, I wasted my money.</td>\n",
       "      <td>0</td>\n",
       "      <td>Amazon</td>\n",
       "      <td>[needle, to, say, i, wasted, my, money]</td>\n",
       "      <td>[needle, say, wasted, money]</td>\n",
       "      <td>needle wasted money</td>\n",
       "    </tr>\n",
       "    <tr>\n",
       "      <th>9</th>\n",
       "      <td>What a waste of money and time!.</td>\n",
       "      <td>0</td>\n",
       "      <td>Amazon</td>\n",
       "      <td>[what, a, waste, of, money, and, time]</td>\n",
       "      <td>[waste, money, time]</td>\n",
       "      <td>waste money time</td>\n",
       "    </tr>\n",
       "  </tbody>\n",
       "</table>\n",
       "</div>"
      ],
      "text/plain": [
       "                                             Reviews  Sentiment  Source  \\\n",
       "0  So there is no way for me to plug it in here i...          0  Amazon   \n",
       "1                        Good case, Excellent value.          1  Amazon   \n",
       "2                             Great for the jawbone.          1  Amazon   \n",
       "3  Tied to charger for conversations lasting more...          0  Amazon   \n",
       "4                                  The mic is great.          1  Amazon   \n",
       "5  I have to jiggle the plug to get it to line up...          0  Amazon   \n",
       "6  If you have several dozen or several hundred c...          0  Amazon   \n",
       "7        If you are Razr owner...you must have this!          1  Amazon   \n",
       "8                Needless to say, I wasted my money.          0  Amazon   \n",
       "9                   What a waste of money and time!.          0  Amazon   \n",
       "\n",
       "                                           Tokenized  \\\n",
       "0  [so, there, is, no, way, for, me, to, plug, it...   \n",
       "1                     [good, case, excellent, value]   \n",
       "2                         [great, for, the, jawbone]   \n",
       "3  [tied, to, charger, for, conversation, lasting...   \n",
       "4                              [the, mic, is, great]   \n",
       "5  [i, have, to, jiggle, the, plug, to, get, it, ...   \n",
       "6  [if, you, have, several, dozen, or, several, h...   \n",
       "7  [if, you, are, razr, owner, you, must, have, t...   \n",
       "8            [needle, to, say, i, wasted, my, money]   \n",
       "9             [what, a, waste, of, money, and, time]   \n",
       "\n",
       "                                        No_Stopwords  \\\n",
       "0              [way, plug, u, unless, go, converter]   \n",
       "1                     [good, case, excellent, value]   \n",
       "2                                   [great, jawbone]   \n",
       "3  [tied, charger, conversation, lasting, 45, min...   \n",
       "4                                       [mic, great]   \n",
       "5  [jiggle, plug, get, line, right, get, decent, ...   \n",
       "6  [several, dozen, several, hundred, contact, im...   \n",
       "7                                [razr, owner, must]   \n",
       "8                       [needle, say, wasted, money]   \n",
       "9                               [waste, money, time]   \n",
       "\n",
       "                                            Frequent  \n",
       "0                              plug unless converter  \n",
       "1                          good case excellent value  \n",
       "2                                      great jawbone  \n",
       "3  tied charger conversation lasting minute major...  \n",
       "4                                              great  \n",
       "5               jiggle plug line right decent volume  \n",
       "6  several dozen several hundred contact imagine ...  \n",
       "7                                    razr owner must  \n",
       "8                                needle wasted money  \n",
       "9                                   waste money time  "
      ]
     },
     "execution_count": 7,
     "metadata": {},
     "output_type": "execute_result"
    }
   ],
   "source": [
    "#Download packages for stopwords, punkt, and wordnet\n",
    "nltk.download('stopwords')\n",
    "nltk.download('punkt')\n",
    "nltk.download('wordnet')\n",
    "\n",
    "tokenized_list=[]\n",
    "cleaned_list=[]\n",
    "frequent_list=[]\n",
    "stop_words = stopwords.words('english')\n",
    "\n",
    "for description in df['Reviews']:\n",
    "    #Remove special characters from string using regex\n",
    "    description = re.sub('[^a-zA-Z0-9]', ' ', description)\n",
    "    #Convert to lower case\n",
    "    description_lower = description.lower()\n",
    "    #Perform tokenization\n",
    "    description_tokenized = nltk.word_tokenize(description_lower)\n",
    "    #Perform lemmatization\n",
    "    lemma = nltk.WordNetLemmatizer()\n",
    "    description_lemma = [lemma.lemmatize(word) for word in description_tokenized]\n",
    "    tokenized_list.append(description_lemma)\n",
    "    #Removing stopwords\n",
    "    description_no_stopwords = [word for word in description_lemma if not word in stop_words]\n",
    "    description_no_stopwords = \" \".join(description_no_stopwords)\n",
    "    description_tokenized2 = nltk.word_tokenize(description_no_stopwords)\n",
    "    cleaned_list.append(description_tokenized2)\n",
    "    #Removing infrequent words\n",
    "    description_freq = [word for word in description_tokenized2 if len(word)>3]\n",
    "    description_tokenized3 = \" \".join(description_freq)\n",
    "    frequent_list.append(description_tokenized3)\n",
    "    \n",
    "#Add the tokenized_list and cleaned_list to the dataframe\n",
    "df['Tokenized'] = pd.DataFrame(zip(tokenized_list))\n",
    "df['No_Stopwords'] = pd.DataFrame(zip(cleaned_list))\n",
    "df['Frequent'] = pd.DataFrame(frequent_list)\n",
    "df.head(10)"
   ]
  },
  {
   "cell_type": "code",
   "execution_count": 8,
   "id": "1ae9bc36",
   "metadata": {},
   "outputs": [],
   "source": [
    "df.to_csv('cleaned_data.csv')"
   ]
  },
  {
   "cell_type": "code",
   "execution_count": 9,
   "id": "c623fa1e",
   "metadata": {},
   "outputs": [
    {
     "name": "stdout",
     "output_type": "stream",
     "text": [
      "vocabulary size:  4284\n"
     ]
    }
   ],
   "source": [
    "#Identify vocabulary size\n",
    "tokenizer = Tokenizer()\n",
    "tokenizer.fit_on_texts(frequent_list)\n",
    "vocab_size = len(tokenizer.word_index)+1\n",
    "print(\"vocabulary size: \", vocab_size)"
   ]
  },
  {
   "cell_type": "code",
   "execution_count": 10,
   "id": "269fea89",
   "metadata": {},
   "outputs": [
    {
     "name": "stdout",
     "output_type": "stream",
     "text": [
      "Max sequence embedding:  8\n"
     ]
    }
   ],
   "source": [
    "#Identify the embedding size\n",
    "max_sequence_embedding = int(round(np.sqrt(np.sqrt(vocab_size)), 0))\n",
    "print('Max sequence embedding: ', max_sequence_embedding)"
   ]
  },
  {
   "cell_type": "code",
   "execution_count": 13,
   "id": "15986ad7",
   "metadata": {},
   "outputs": [],
   "source": [
    "#Make long string out of entire Frequent column\n",
    "def entire_string (df, column):\n",
    "    entire = (' '.join(word for word in df[column]))\n",
    "    entire_tokenized = nltk.word_tokenize(entire)\n",
    "    return entire_tokenized"
   ]
  },
  {
   "cell_type": "code",
   "execution_count": 14,
   "id": "92baedc5",
   "metadata": {},
   "outputs": [
    {
     "name": "stdout",
     "output_type": "stream",
     "text": [
      "Max length of the sequence is:  3971\n",
      "Min length of the sequence is:  0\n",
      "Median length of the sequence is:  27\n"
     ]
    }
   ],
   "source": [
    "#Determine min, med, and max legnths of reviews\n",
    "review_length = []\n",
    "for index, row in df.iterrows():\n",
    "    review_length.append(len(entire_string(row, 'Frequent')))\n",
    "\n",
    "review_max = int(np.max(review_length))\n",
    "review_min = int(np.min(review_length))\n",
    "review_median = int(np.median(review_length))\n",
    "print('Max length of the sequence is: ', review_max)\n",
    "print('Min length of the sequence is: ', review_min)\n",
    "print('Median length of the sequence is: ', review_median)"
   ]
  },
  {
   "cell_type": "code",
   "execution_count": 15,
   "id": "0ce8e875",
   "metadata": {},
   "outputs": [],
   "source": [
    "#Split the data to train and test sets\n",
    "split = round(len(df)*0.8)\n",
    "\n",
    "X_train = df['Frequent'][:split]\n",
    "X_test = df['Frequent'][split:]\n",
    "y_train = df['Sentiment'][:split]\n",
    "y_test = df['Sentiment'][split:]"
   ]
  },
  {
   "cell_type": "code",
   "execution_count": 16,
   "id": "001aa335",
   "metadata": {},
   "outputs": [
    {
     "data": {
      "text/plain": [
       "array([  1,  46,  27, 267,   0,   0,   0,   0,   0,   0,   0,   0,   0,\n",
       "         0,   0,   0,   0,   0,   0,   0,   0,   0,   0,   0,   0,   0,\n",
       "         0])"
      ]
     },
     "execution_count": 16,
     "metadata": {},
     "output_type": "execute_result"
    }
   ],
   "source": [
    "paddnig='post'\n",
    "truncating='post'\n",
    "\n",
    "#Apply padding to training data\n",
    "review_train = tokenizer.texts_to_sequences(X_train)\n",
    "padded_train = pad_sequences(review_train, maxlen=review_median, padding=paddnig, truncating=truncating)\n",
    "\n",
    "#Apply padding to test data\n",
    "review_test = tokenizer.texts_to_sequences(X_test)\n",
    "padded_test = pad_sequences(review_test, maxlen=review_median, padding=paddnig, truncating=truncating)\n",
    "\n",
    "#Display added sequences\n",
    "np.set_printoptions(threshold=sys.maxsize)\n",
    "padded_train[1]"
   ]
  },
  {
   "cell_type": "code",
   "execution_count": 17,
   "id": "f9325576",
   "metadata": {},
   "outputs": [],
   "source": [
    "#Convert padded data to numpy array to be used in the model\n",
    "training_padded = np.array(padded_train)\n",
    "training_label = np.array(y_train)\n",
    "test_padded = np.array(padded_test)\n",
    "test_label = np.array(y_test)"
   ]
  },
  {
   "cell_type": "code",
   "execution_count": 18,
   "id": "49d53452",
   "metadata": {},
   "outputs": [],
   "source": [
    "#Export the data to csv file\n",
    "pd.DataFrame(training_padded).to_csv('training_padded.csv')\n",
    "pd.DataFrame(training_label).to_csv('training_label.csv')\n",
    "pd.DataFrame(test_padded).to_csv('test_padded.csv')\n",
    "pd.DataFrame(test_label).to_csv('test_label.csv')"
   ]
  },
  {
   "cell_type": "code",
   "execution_count": 19,
   "id": "a1defb87",
   "metadata": {},
   "outputs": [
    {
     "name": "stdout",
     "output_type": "stream",
     "text": [
      "Epoch 1/20\n"
     ]
    },
    {
     "name": "stderr",
     "output_type": "stream",
     "text": [
      "C:\\Users\\Saemi\\anaconda3\\Lib\\site-packages\\keras\\src\\layers\\core\\embedding.py:90: UserWarning: Argument `input_length` is deprecated. Just remove it.\n",
      "  warnings.warn(\n"
     ]
    },
    {
     "name": "stdout",
     "output_type": "stream",
     "text": [
      "\u001b[1m49/49\u001b[0m \u001b[32m━━━━━━━━━━━━━━━━━━━━\u001b[0m\u001b[37m\u001b[0m \u001b[1m3s\u001b[0m 10ms/step - accuracy: 0.5119 - loss: 0.6933 - val_accuracy: 0.3970 - val_loss: 0.7026\n",
      "Epoch 2/20\n",
      "\u001b[1m49/49\u001b[0m \u001b[32m━━━━━━━━━━━━━━━━━━━━\u001b[0m\u001b[37m\u001b[0m \u001b[1m0s\u001b[0m 4ms/step - accuracy: 0.5268 - loss: 0.6913 - val_accuracy: 0.3970 - val_loss: 0.6996\n",
      "Epoch 3/20\n",
      "\u001b[1m49/49\u001b[0m \u001b[32m━━━━━━━━━━━━━━━━━━━━\u001b[0m\u001b[37m\u001b[0m \u001b[1m0s\u001b[0m 3ms/step - accuracy: 0.5127 - loss: 0.6872 - val_accuracy: 0.4030 - val_loss: 0.7218\n",
      "Epoch 4/20\n",
      "\u001b[1m49/49\u001b[0m \u001b[32m━━━━━━━━━━━━━━━━━━━━\u001b[0m\u001b[37m\u001b[0m \u001b[1m0s\u001b[0m 3ms/step - accuracy: 0.6608 - loss: 0.6445 - val_accuracy: 0.7030 - val_loss: 0.6133\n",
      "Epoch 5/20\n",
      "\u001b[1m49/49\u001b[0m \u001b[32m━━━━━━━━━━━━━━━━━━━━\u001b[0m\u001b[37m\u001b[0m \u001b[1m0s\u001b[0m 3ms/step - accuracy: 0.6845 - loss: 0.5847 - val_accuracy: 0.7348 - val_loss: 0.5452\n",
      "Epoch 6/20\n",
      "\u001b[1m49/49\u001b[0m \u001b[32m━━━━━━━━━━━━━━━━━━━━\u001b[0m\u001b[37m\u001b[0m \u001b[1m0s\u001b[0m 3ms/step - accuracy: 0.8515 - loss: 0.3753 - val_accuracy: 0.7091 - val_loss: 0.5776\n",
      "Epoch 7/20\n",
      "\u001b[1m49/49\u001b[0m \u001b[32m━━━━━━━━━━━━━━━━━━━━\u001b[0m\u001b[37m\u001b[0m \u001b[1m0s\u001b[0m 3ms/step - accuracy: 0.8640 - loss: 0.2972 - val_accuracy: 0.7409 - val_loss: 0.5276\n",
      "Epoch 8/20\n",
      "\u001b[1m49/49\u001b[0m \u001b[32m━━━━━━━━━━━━━━━━━━━━\u001b[0m\u001b[37m\u001b[0m \u001b[1m0s\u001b[0m 3ms/step - accuracy: 0.9320 - loss: 0.1940 - val_accuracy: 0.6939 - val_loss: 0.6261\n",
      "Epoch 9/20\n",
      "\u001b[1m49/49\u001b[0m \u001b[32m━━━━━━━━━━━━━━━━━━━━\u001b[0m\u001b[37m\u001b[0m \u001b[1m0s\u001b[0m 3ms/step - accuracy: 0.9266 - loss: 0.1675 - val_accuracy: 0.7015 - val_loss: 0.6051\n"
     ]
    },
    {
     "data": {
      "text/html": [
       "<pre style=\"white-space:pre;overflow-x:auto;line-height:normal;font-family:Menlo,'DejaVu Sans Mono',consolas,'Courier New',monospace\"><span style=\"font-weight: bold\">Model: \"sequential\"</span>\n",
       "</pre>\n"
      ],
      "text/plain": [
       "\u001b[1mModel: \"sequential\"\u001b[0m\n"
      ]
     },
     "metadata": {},
     "output_type": "display_data"
    },
    {
     "data": {
      "text/html": [
       "<pre style=\"white-space:pre;overflow-x:auto;line-height:normal;font-family:Menlo,'DejaVu Sans Mono',consolas,'Courier New',monospace\">┏━━━━━━━━━━━━━━━━━━━━━━━━━━━━━━━━━┳━━━━━━━━━━━━━━━━━━━━━━━━┳━━━━━━━━━━━━━━━┓\n",
       "┃<span style=\"font-weight: bold\"> Layer (type)                    </span>┃<span style=\"font-weight: bold\"> Output Shape           </span>┃<span style=\"font-weight: bold\">       Param # </span>┃\n",
       "┡━━━━━━━━━━━━━━━━━━━━━━━━━━━━━━━━━╇━━━━━━━━━━━━━━━━━━━━━━━━╇━━━━━━━━━━━━━━━┩\n",
       "│ embedding (<span style=\"color: #0087ff; text-decoration-color: #0087ff\">Embedding</span>)           │ (<span style=\"color: #00d7ff; text-decoration-color: #00d7ff\">None</span>, <span style=\"color: #00af00; text-decoration-color: #00af00\">27</span>, <span style=\"color: #00af00; text-decoration-color: #00af00\">8</span>)          │        <span style=\"color: #00af00; text-decoration-color: #00af00\">34,272</span> │\n",
       "├─────────────────────────────────┼────────────────────────┼───────────────┤\n",
       "│ global_average_pooling1d        │ (<span style=\"color: #00d7ff; text-decoration-color: #00d7ff\">None</span>, <span style=\"color: #00af00; text-decoration-color: #00af00\">8</span>)              │             <span style=\"color: #00af00; text-decoration-color: #00af00\">0</span> │\n",
       "│ (<span style=\"color: #0087ff; text-decoration-color: #0087ff\">GlobalAveragePooling1D</span>)        │                        │               │\n",
       "├─────────────────────────────────┼────────────────────────┼───────────────┤\n",
       "│ dense (<span style=\"color: #0087ff; text-decoration-color: #0087ff\">Dense</span>)                   │ (<span style=\"color: #00d7ff; text-decoration-color: #00d7ff\">None</span>, <span style=\"color: #00af00; text-decoration-color: #00af00\">100</span>)            │           <span style=\"color: #00af00; text-decoration-color: #00af00\">900</span> │\n",
       "├─────────────────────────────────┼────────────────────────┼───────────────┤\n",
       "│ dense_1 (<span style=\"color: #0087ff; text-decoration-color: #0087ff\">Dense</span>)                 │ (<span style=\"color: #00d7ff; text-decoration-color: #00d7ff\">None</span>, <span style=\"color: #00af00; text-decoration-color: #00af00\">50</span>)             │         <span style=\"color: #00af00; text-decoration-color: #00af00\">5,050</span> │\n",
       "├─────────────────────────────────┼────────────────────────┼───────────────┤\n",
       "│ dense_2 (<span style=\"color: #0087ff; text-decoration-color: #0087ff\">Dense</span>)                 │ (<span style=\"color: #00d7ff; text-decoration-color: #00d7ff\">None</span>, <span style=\"color: #00af00; text-decoration-color: #00af00\">2</span>)              │           <span style=\"color: #00af00; text-decoration-color: #00af00\">102</span> │\n",
       "└─────────────────────────────────┴────────────────────────┴───────────────┘\n",
       "</pre>\n"
      ],
      "text/plain": [
       "┏━━━━━━━━━━━━━━━━━━━━━━━━━━━━━━━━━┳━━━━━━━━━━━━━━━━━━━━━━━━┳━━━━━━━━━━━━━━━┓\n",
       "┃\u001b[1m \u001b[0m\u001b[1mLayer (type)                   \u001b[0m\u001b[1m \u001b[0m┃\u001b[1m \u001b[0m\u001b[1mOutput Shape          \u001b[0m\u001b[1m \u001b[0m┃\u001b[1m \u001b[0m\u001b[1m      Param #\u001b[0m\u001b[1m \u001b[0m┃\n",
       "┡━━━━━━━━━━━━━━━━━━━━━━━━━━━━━━━━━╇━━━━━━━━━━━━━━━━━━━━━━━━╇━━━━━━━━━━━━━━━┩\n",
       "│ embedding (\u001b[38;5;33mEmbedding\u001b[0m)           │ (\u001b[38;5;45mNone\u001b[0m, \u001b[38;5;34m27\u001b[0m, \u001b[38;5;34m8\u001b[0m)          │        \u001b[38;5;34m34,272\u001b[0m │\n",
       "├─────────────────────────────────┼────────────────────────┼───────────────┤\n",
       "│ global_average_pooling1d        │ (\u001b[38;5;45mNone\u001b[0m, \u001b[38;5;34m8\u001b[0m)              │             \u001b[38;5;34m0\u001b[0m │\n",
       "│ (\u001b[38;5;33mGlobalAveragePooling1D\u001b[0m)        │                        │               │\n",
       "├─────────────────────────────────┼────────────────────────┼───────────────┤\n",
       "│ dense (\u001b[38;5;33mDense\u001b[0m)                   │ (\u001b[38;5;45mNone\u001b[0m, \u001b[38;5;34m100\u001b[0m)            │           \u001b[38;5;34m900\u001b[0m │\n",
       "├─────────────────────────────────┼────────────────────────┼───────────────┤\n",
       "│ dense_1 (\u001b[38;5;33mDense\u001b[0m)                 │ (\u001b[38;5;45mNone\u001b[0m, \u001b[38;5;34m50\u001b[0m)             │         \u001b[38;5;34m5,050\u001b[0m │\n",
       "├─────────────────────────────────┼────────────────────────┼───────────────┤\n",
       "│ dense_2 (\u001b[38;5;33mDense\u001b[0m)                 │ (\u001b[38;5;45mNone\u001b[0m, \u001b[38;5;34m2\u001b[0m)              │           \u001b[38;5;34m102\u001b[0m │\n",
       "└─────────────────────────────────┴────────────────────────┴───────────────┘\n"
      ]
     },
     "metadata": {},
     "output_type": "display_data"
    },
    {
     "data": {
      "text/html": [
       "<pre style=\"white-space:pre;overflow-x:auto;line-height:normal;font-family:Menlo,'DejaVu Sans Mono',consolas,'Courier New',monospace\"><span style=\"font-weight: bold\"> Total params: </span><span style=\"color: #00af00; text-decoration-color: #00af00\">120,974</span> (472.56 KB)\n",
       "</pre>\n"
      ],
      "text/plain": [
       "\u001b[1m Total params: \u001b[0m\u001b[38;5;34m120,974\u001b[0m (472.56 KB)\n"
      ]
     },
     "metadata": {},
     "output_type": "display_data"
    },
    {
     "data": {
      "text/html": [
       "<pre style=\"white-space:pre;overflow-x:auto;line-height:normal;font-family:Menlo,'DejaVu Sans Mono',consolas,'Courier New',monospace\"><span style=\"font-weight: bold\"> Trainable params: </span><span style=\"color: #00af00; text-decoration-color: #00af00\">40,324</span> (157.52 KB)\n",
       "</pre>\n"
      ],
      "text/plain": [
       "\u001b[1m Trainable params: \u001b[0m\u001b[38;5;34m40,324\u001b[0m (157.52 KB)\n"
      ]
     },
     "metadata": {},
     "output_type": "display_data"
    },
    {
     "data": {
      "text/html": [
       "<pre style=\"white-space:pre;overflow-x:auto;line-height:normal;font-family:Menlo,'DejaVu Sans Mono',consolas,'Courier New',monospace\"><span style=\"font-weight: bold\"> Non-trainable params: </span><span style=\"color: #00af00; text-decoration-color: #00af00\">0</span> (0.00 B)\n",
       "</pre>\n"
      ],
      "text/plain": [
       "\u001b[1m Non-trainable params: \u001b[0m\u001b[38;5;34m0\u001b[0m (0.00 B)\n"
      ]
     },
     "metadata": {},
     "output_type": "display_data"
    },
    {
     "data": {
      "text/html": [
       "<pre style=\"white-space:pre;overflow-x:auto;line-height:normal;font-family:Menlo,'DejaVu Sans Mono',consolas,'Courier New',monospace\"><span style=\"font-weight: bold\"> Optimizer params: </span><span style=\"color: #00af00; text-decoration-color: #00af00\">80,650</span> (315.04 KB)\n",
       "</pre>\n"
      ],
      "text/plain": [
       "\u001b[1m Optimizer params: \u001b[0m\u001b[38;5;34m80,650\u001b[0m (315.04 KB)\n"
      ]
     },
     "metadata": {},
     "output_type": "display_data"
    }
   ],
   "source": [
    "#Create EarlyStopping\n",
    "early_stopping_monitor = tf.keras.callbacks.EarlyStopping(patience=2)\n",
    "num_epochs=20\n",
    "\n",
    "#Build a neural network model\n",
    "model = tf.keras.Sequential([\n",
    "    tf.keras.layers.Embedding(vocab_size, max_sequence_embedding, input_length=review_max),\n",
    "    tf.keras.layers.GlobalAveragePooling1D(),\n",
    "    tf.keras.layers.Dense(100, activation='relu'),\n",
    "    tf.keras.layers.Dense(50, activation='relu'),\n",
    "    tf.keras.layers.Dense(2, activation='softmax')\n",
    "])\n",
    "\n",
    "model.compile(loss='sparse_categorical_crossentropy', optimizer='adam', metrics=['accuracy'])\n",
    "#Print model summary\n",
    "#model.summary()\n",
    "\n",
    "history = model.fit(training_padded, training_label, batch_size=32, epochs=num_epochs,\n",
    "                    validation_split=0.3, callbacks=[early_stopping_monitor], verbose=True)\n",
    "model.summary()"
   ]
  },
  {
   "cell_type": "code",
   "execution_count": 20,
   "id": "d90fac15",
   "metadata": {},
   "outputs": [],
   "source": [
    "#Save and reloading the model to perform predictions\n",
    "#Save the model\n",
    "model.save('my_model.keras')\n",
    "\n",
    "#Load the model for performing predictions\n",
    "my_model = load_model('my_model.keras')"
   ]
  },
  {
   "cell_type": "code",
   "execution_count": 21,
   "id": "9d802b31",
   "metadata": {},
   "outputs": [
    {
     "name": "stdout",
     "output_type": "stream",
     "text": [
      "\u001b[1m69/69\u001b[0m \u001b[32m━━━━━━━━━━━━━━━━━━━━\u001b[0m\u001b[37m\u001b[0m \u001b[1m0s\u001b[0m 2ms/step\n"
     ]
    }
   ],
   "source": [
    "#Perform predictions\n",
    "predictions = my_model.predict(training_padded)"
   ]
  },
  {
   "cell_type": "code",
   "execution_count": 22,
   "id": "0762ca8f",
   "metadata": {},
   "outputs": [
    {
     "name": "stdout",
     "output_type": "stream",
     "text": [
      "\u001b[1m18/18\u001b[0m \u001b[32m━━━━━━━━━━━━━━━━━━━━\u001b[0m\u001b[37m\u001b[0m \u001b[1m0s\u001b[0m 2ms/step \n"
     ]
    }
   ],
   "source": [
    "#Perform prediction on the test data\n",
    "predictions = my_model.predict(test_padded)"
   ]
  },
  {
   "cell_type": "code",
   "execution_count": 23,
   "id": "4ab1b07e",
   "metadata": {},
   "outputs": [
    {
     "name": "stdout",
     "output_type": "stream",
     "text": [
      "Predicted review text:  reasonably priced also \n",
      "\n",
      "Predicted:  Positive Review\n",
      "Actual:  Positive Review\n"
     ]
    }
   ],
   "source": [
    "#Verify the predicted label by comparing to actual label from the test data\n",
    "#Take any text from data to verify\n",
    "i = 63\n",
    "\n",
    "print(\"Predicted review text: \", X_test.iloc[i], \"\\n\")\n",
    "print(\"Predicted: \", \"Negative\" if predictions[i][0] > 0.5 else \"Positive\", \"Review\")\n",
    "print(\"Actual: \", \"Negative\" if y_test.iloc[i] == 0 else \"Positive\", \"Review\")"
   ]
  },
  {
   "cell_type": "code",
   "execution_count": 24,
   "id": "ea8a674f",
   "metadata": {},
   "outputs": [
    {
     "name": "stdout",
     "output_type": "stream",
     "text": [
      "Training loss: 0.2636036276817322 / Training accuracy: 0.8853503465652466\n"
     ]
    }
   ],
   "source": [
    "#Verify model accuracy on training data\n",
    "score = model.evaluate(training_padded, training_label, verbose=0)\n",
    "print(f'Training loss: {score[0]} / Training accuracy: {score[1]}')"
   ]
  },
  {
   "cell_type": "code",
   "execution_count": 25,
   "id": "77ab2a7f",
   "metadata": {},
   "outputs": [
    {
     "name": "stdout",
     "output_type": "stream",
     "text": [
      "Test loss: 0.6452460289001465 / Test accuracy: 0.7163636088371277\n"
     ]
    }
   ],
   "source": [
    "#Verify model accuracy on test data\n",
    "score = model.evaluate(test_padded, test_label, verbose=0)\n",
    "print(f'Test loss: {score[0]} / Test accuracy: {score[1]}')"
   ]
  },
  {
   "cell_type": "code",
   "execution_count": 26,
   "id": "529b5e0d",
   "metadata": {},
   "outputs": [
    {
     "data": {
      "image/png": "[encoded data removed]",
      "text/plain": [
       "<Figure size 640x480 with 1 Axes>"
      ]
     },
     "metadata": {},
     "output_type": "display_data"
    },
    {
     "data": {
      "image/png": "[encoded data removed]",
      "text/plain": [
       "<Figure size 640x480 with 1 Axes>"
      ]
     },
     "metadata": {},
     "output_type": "display_data"
    }
   ],
   "source": [
    "#Graph training and validation accuracy & loss\n",
    "def plot_graphs(history, string):\n",
    "    plt.plot(history.history[string])\n",
    "    plt.plot(history.history['val_'+string])\n",
    "    plt.xlabel(\"Epochs\")\n",
    "    plt.ylabel(string)\n",
    "    plt.legend([string, 'val_'+string])\n",
    "    plt.show()\n",
    "plot_graphs(history, \"accuracy\")\n",
    "plot_graphs(history, \"loss\")"
   ]
  },
  {
   "cell_type": "code",
   "execution_count": null,
   "id": "ac2d7f6a",
   "metadata": {},
   "outputs": [],
   "source": []
  }
 ],
 "metadata": {
  "kernelspec": {
   "display_name": "Python 3 (ipykernel)",
   "language": "python",
   "name": "python3"
  },
  "language_info": {
   "codemirror_mode": {
    "name": "ipython",
    "version": 3
   },
   "file_extension": ".py",
   "mimetype": "text/x-python",
   "name": "python",
   "nbconvert_exporter": "python",
   "pygments_lexer": "ipython3",
   "version": "3.11.7"
  }
 },
 "nbformat": 4,
 "nbformat_minor": 5
}
