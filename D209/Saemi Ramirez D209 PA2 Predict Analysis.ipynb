{
 "cells": [
  {
   "cell_type": "code",
   "execution_count": 1,
   "id": "4d3164e6",
   "metadata": {},
   "outputs": [],
   "source": [
    "# import needed libraries\n",
    "import pandas as pd\n",
    "import numpy as np\n",
    "import matplotlib.pyplot as plt\n",
    "import seaborn as sns\n",
    "from sklearn.preprocessing import MinMaxScaler\n",
    "from sklearn.model_selection import train_test_split, RandomizedSearchCV\n",
    "from sklearn.ensemble import RandomForestRegressor\n",
    "from sklearn.metrics import r2_score, mean_squared_error, accuracy_score"
   ]
  },
  {
   "cell_type": "code",
   "execution_count": 2,
   "id": "29ca6c23",
   "metadata": {},
   "outputs": [
    {
     "name": "stdout",
     "output_type": "stream",
     "text": [
      "<class 'pandas.core.frame.DataFrame'>\n",
      "RangeIndex: 10000 entries, 0 to 9999\n",
      "Data columns (total 50 columns):\n",
      " #   Column              Non-Null Count  Dtype  \n",
      "---  ------              --------------  -----  \n",
      " 0   CaseOrder           10000 non-null  int64  \n",
      " 1   Customer_id         10000 non-null  object \n",
      " 2   Interaction         10000 non-null  object \n",
      " 3   UID                 10000 non-null  object \n",
      " 4   City                10000 non-null  object \n",
      " 5   State               10000 non-null  object \n",
      " 6   County              10000 non-null  object \n",
      " 7   Zip                 10000 non-null  int64  \n",
      " 8   Lat                 10000 non-null  float64\n",
      " 9   Lng                 10000 non-null  float64\n",
      " 10  Population          10000 non-null  int64  \n",
      " 11  Area                10000 non-null  object \n",
      " 12  TimeZone            10000 non-null  object \n",
      " 13  Job                 10000 non-null  object \n",
      " 14  Children            10000 non-null  int64  \n",
      " 15  Age                 10000 non-null  int64  \n",
      " 16  Income              10000 non-null  float64\n",
      " 17  Marital             10000 non-null  object \n",
      " 18  Gender              10000 non-null  object \n",
      " 19  ReAdmis             10000 non-null  object \n",
      " 20  VitD_levels         10000 non-null  float64\n",
      " 21  Doc_visits          10000 non-null  int64  \n",
      " 22  Full_meals_eaten    10000 non-null  int64  \n",
      " 23  vitD_supp           10000 non-null  int64  \n",
      " 24  Soft_drink          10000 non-null  object \n",
      " 25  Initial_admin       10000 non-null  object \n",
      " 26  HighBlood           10000 non-null  object \n",
      " 27  Stroke              10000 non-null  object \n",
      " 28  Complication_risk   10000 non-null  object \n",
      " 29  Overweight          10000 non-null  object \n",
      " 30  Arthritis           10000 non-null  object \n",
      " 31  Diabetes            10000 non-null  object \n",
      " 32  Hyperlipidemia      10000 non-null  object \n",
      " 33  BackPain            10000 non-null  object \n",
      " 34  Anxiety             10000 non-null  object \n",
      " 35  Allergic_rhinitis   10000 non-null  object \n",
      " 36  Reflux_esophagitis  10000 non-null  object \n",
      " 37  Asthma              10000 non-null  object \n",
      " 38  Services            10000 non-null  object \n",
      " 39  Initial_days        10000 non-null  float64\n",
      " 40  TotalCharge         10000 non-null  float64\n",
      " 41  Additional_charges  10000 non-null  float64\n",
      " 42  Item1               10000 non-null  int64  \n",
      " 43  Item2               10000 non-null  int64  \n",
      " 44  Item3               10000 non-null  int64  \n",
      " 45  Item4               10000 non-null  int64  \n",
      " 46  Item5               10000 non-null  int64  \n",
      " 47  Item6               10000 non-null  int64  \n",
      " 48  Item7               10000 non-null  int64  \n",
      " 49  Item8               10000 non-null  int64  \n",
      "dtypes: float64(7), int64(16), object(27)\n",
      "memory usage: 3.8+ MB\n"
     ]
    }
   ],
   "source": [
    "# read the CSV file\n",
    "df = pd.read_csv(r'C:\\Users\\Saemi\\OneDrive\\Education\\WGU\\D209 Data Mining I\\PA1\\medical_clean.csv')\n",
    "# check the data information\n",
    "df.info()"
   ]
  },
  {
   "cell_type": "code",
   "execution_count": 3,
   "id": "8989c058",
   "metadata": {},
   "outputs": [
    {
     "data": {
      "text/html": [
       "<div>\n",
       "<style scoped>\n",
       "    .dataframe tbody tr th:only-of-type {\n",
       "        vertical-align: middle;\n",
       "    }\n",
       "\n",
       "    .dataframe tbody tr th {\n",
       "        vertical-align: top;\n",
       "    }\n",
       "\n",
       "    .dataframe thead th {\n",
       "        text-align: right;\n",
       "    }\n",
       "</style>\n",
       "<table border=\"1\" class=\"dataframe\">\n",
       "  <thead>\n",
       "    <tr style=\"text-align: right;\">\n",
       "      <th></th>\n",
       "      <th>CaseOrder</th>\n",
       "      <th>Customer_id</th>\n",
       "      <th>Interaction</th>\n",
       "      <th>UID</th>\n",
       "      <th>City</th>\n",
       "      <th>State</th>\n",
       "      <th>County</th>\n",
       "      <th>Zip</th>\n",
       "      <th>Lat</th>\n",
       "      <th>Lng</th>\n",
       "      <th>...</th>\n",
       "      <th>TotalCharge</th>\n",
       "      <th>Additional_charges</th>\n",
       "      <th>Item1</th>\n",
       "      <th>Item2</th>\n",
       "      <th>Item3</th>\n",
       "      <th>Item4</th>\n",
       "      <th>Item5</th>\n",
       "      <th>Item6</th>\n",
       "      <th>Item7</th>\n",
       "      <th>Item8</th>\n",
       "    </tr>\n",
       "  </thead>\n",
       "  <tbody>\n",
       "    <tr>\n",
       "      <th>0</th>\n",
       "      <td>1</td>\n",
       "      <td>C412403</td>\n",
       "      <td>8cd49b13-f45a-4b47-a2bd-173ffa932c2f</td>\n",
       "      <td>3a83ddb66e2ae73798bdf1d705dc0932</td>\n",
       "      <td>Eva</td>\n",
       "      <td>AL</td>\n",
       "      <td>Morgan</td>\n",
       "      <td>35621</td>\n",
       "      <td>34.34960</td>\n",
       "      <td>-86.72508</td>\n",
       "      <td>...</td>\n",
       "      <td>3726.702860</td>\n",
       "      <td>17939.403420</td>\n",
       "      <td>3</td>\n",
       "      <td>3</td>\n",
       "      <td>2</td>\n",
       "      <td>2</td>\n",
       "      <td>4</td>\n",
       "      <td>3</td>\n",
       "      <td>3</td>\n",
       "      <td>4</td>\n",
       "    </tr>\n",
       "    <tr>\n",
       "      <th>1</th>\n",
       "      <td>2</td>\n",
       "      <td>Z919181</td>\n",
       "      <td>d2450b70-0337-4406-bdbb-bc1037f1734c</td>\n",
       "      <td>176354c5eef714957d486009feabf195</td>\n",
       "      <td>Marianna</td>\n",
       "      <td>FL</td>\n",
       "      <td>Jackson</td>\n",
       "      <td>32446</td>\n",
       "      <td>30.84513</td>\n",
       "      <td>-85.22907</td>\n",
       "      <td>...</td>\n",
       "      <td>4193.190458</td>\n",
       "      <td>17612.998120</td>\n",
       "      <td>3</td>\n",
       "      <td>4</td>\n",
       "      <td>3</td>\n",
       "      <td>4</td>\n",
       "      <td>4</td>\n",
       "      <td>4</td>\n",
       "      <td>3</td>\n",
       "      <td>3</td>\n",
       "    </tr>\n",
       "    <tr>\n",
       "      <th>2</th>\n",
       "      <td>3</td>\n",
       "      <td>F995323</td>\n",
       "      <td>a2057123-abf5-4a2c-abad-8ffe33512562</td>\n",
       "      <td>e19a0fa00aeda885b8a436757e889bc9</td>\n",
       "      <td>Sioux Falls</td>\n",
       "      <td>SD</td>\n",
       "      <td>Minnehaha</td>\n",
       "      <td>57110</td>\n",
       "      <td>43.54321</td>\n",
       "      <td>-96.63772</td>\n",
       "      <td>...</td>\n",
       "      <td>2434.234222</td>\n",
       "      <td>17505.192460</td>\n",
       "      <td>2</td>\n",
       "      <td>4</td>\n",
       "      <td>4</td>\n",
       "      <td>4</td>\n",
       "      <td>3</td>\n",
       "      <td>4</td>\n",
       "      <td>3</td>\n",
       "      <td>3</td>\n",
       "    </tr>\n",
       "    <tr>\n",
       "      <th>3</th>\n",
       "      <td>4</td>\n",
       "      <td>A879973</td>\n",
       "      <td>1dec528d-eb34-4079-adce-0d7a40e82205</td>\n",
       "      <td>cd17d7b6d152cb6f23957346d11c3f07</td>\n",
       "      <td>New Richland</td>\n",
       "      <td>MN</td>\n",
       "      <td>Waseca</td>\n",
       "      <td>56072</td>\n",
       "      <td>43.89744</td>\n",
       "      <td>-93.51479</td>\n",
       "      <td>...</td>\n",
       "      <td>2127.830423</td>\n",
       "      <td>12993.437350</td>\n",
       "      <td>3</td>\n",
       "      <td>5</td>\n",
       "      <td>5</td>\n",
       "      <td>3</td>\n",
       "      <td>4</td>\n",
       "      <td>5</td>\n",
       "      <td>5</td>\n",
       "      <td>5</td>\n",
       "    </tr>\n",
       "    <tr>\n",
       "      <th>4</th>\n",
       "      <td>5</td>\n",
       "      <td>C544523</td>\n",
       "      <td>5885f56b-d6da-43a3-8760-83583af94266</td>\n",
       "      <td>d2f0425877b10ed6bb381f3e2579424a</td>\n",
       "      <td>West Point</td>\n",
       "      <td>VA</td>\n",
       "      <td>King William</td>\n",
       "      <td>23181</td>\n",
       "      <td>37.59894</td>\n",
       "      <td>-76.88958</td>\n",
       "      <td>...</td>\n",
       "      <td>2113.073274</td>\n",
       "      <td>3716.525786</td>\n",
       "      <td>2</td>\n",
       "      <td>1</td>\n",
       "      <td>3</td>\n",
       "      <td>3</td>\n",
       "      <td>5</td>\n",
       "      <td>3</td>\n",
       "      <td>4</td>\n",
       "      <td>3</td>\n",
       "    </tr>\n",
       "  </tbody>\n",
       "</table>\n",
       "<p>5 rows × 50 columns</p>\n",
       "</div>"
      ],
      "text/plain": [
       "   CaseOrder Customer_id                           Interaction  \\\n",
       "0          1     C412403  8cd49b13-f45a-4b47-a2bd-173ffa932c2f   \n",
       "1          2     Z919181  d2450b70-0337-4406-bdbb-bc1037f1734c   \n",
       "2          3     F995323  a2057123-abf5-4a2c-abad-8ffe33512562   \n",
       "3          4     A879973  1dec528d-eb34-4079-adce-0d7a40e82205   \n",
       "4          5     C544523  5885f56b-d6da-43a3-8760-83583af94266   \n",
       "\n",
       "                                UID          City State        County    Zip  \\\n",
       "0  3a83ddb66e2ae73798bdf1d705dc0932           Eva    AL        Morgan  35621   \n",
       "1  176354c5eef714957d486009feabf195      Marianna    FL       Jackson  32446   \n",
       "2  e19a0fa00aeda885b8a436757e889bc9   Sioux Falls    SD     Minnehaha  57110   \n",
       "3  cd17d7b6d152cb6f23957346d11c3f07  New Richland    MN        Waseca  56072   \n",
       "4  d2f0425877b10ed6bb381f3e2579424a    West Point    VA  King William  23181   \n",
       "\n",
       "        Lat       Lng  ...  TotalCharge Additional_charges Item1 Item2  Item3  \\\n",
       "0  34.34960 -86.72508  ...  3726.702860       17939.403420     3     3      2   \n",
       "1  30.84513 -85.22907  ...  4193.190458       17612.998120     3     4      3   \n",
       "2  43.54321 -96.63772  ...  2434.234222       17505.192460     2     4      4   \n",
       "3  43.89744 -93.51479  ...  2127.830423       12993.437350     3     5      5   \n",
       "4  37.59894 -76.88958  ...  2113.073274        3716.525786     2     1      3   \n",
       "\n",
       "   Item4  Item5 Item6 Item7 Item8  \n",
       "0      2      4     3     3     4  \n",
       "1      4      4     4     3     3  \n",
       "2      4      3     4     3     3  \n",
       "3      3      4     5     5     5  \n",
       "4      3      5     3     4     3  \n",
       "\n",
       "[5 rows x 50 columns]"
      ]
     },
     "execution_count": 3,
     "metadata": {},
     "output_type": "execute_result"
    }
   ],
   "source": [
    "# visually inspect the dataframe. Explorate the data and spot the problems\n",
    "df.head(5)"
   ]
  },
  {
   "cell_type": "code",
   "execution_count": 4,
   "id": "f5b16435",
   "metadata": {},
   "outputs": [
    {
     "data": {
      "text/plain": [
       "CaseOrder             0\n",
       "Customer_id           0\n",
       "Interaction           0\n",
       "UID                   0\n",
       "City                  0\n",
       "State                 0\n",
       "County                0\n",
       "Zip                   0\n",
       "Lat                   0\n",
       "Lng                   0\n",
       "Population            0\n",
       "Area                  0\n",
       "TimeZone              0\n",
       "Job                   0\n",
       "Children              0\n",
       "Age                   0\n",
       "Income                0\n",
       "Marital               0\n",
       "Gender                0\n",
       "ReAdmis               0\n",
       "VitD_levels           0\n",
       "Doc_visits            0\n",
       "Full_meals_eaten      0\n",
       "vitD_supp             0\n",
       "Soft_drink            0\n",
       "Initial_admin         0\n",
       "HighBlood             0\n",
       "Stroke                0\n",
       "Complication_risk     0\n",
       "Overweight            0\n",
       "Arthritis             0\n",
       "Diabetes              0\n",
       "Hyperlipidemia        0\n",
       "BackPain              0\n",
       "Anxiety               0\n",
       "Allergic_rhinitis     0\n",
       "Reflux_esophagitis    0\n",
       "Asthma                0\n",
       "Services              0\n",
       "Initial_days          0\n",
       "TotalCharge           0\n",
       "Additional_charges    0\n",
       "Item1                 0\n",
       "Item2                 0\n",
       "Item3                 0\n",
       "Item4                 0\n",
       "Item5                 0\n",
       "Item6                 0\n",
       "Item7                 0\n",
       "Item8                 0\n",
       "dtype: int64"
      ]
     },
     "execution_count": 4,
     "metadata": {},
     "output_type": "execute_result"
    }
   ],
   "source": [
    "df.isnull().sum()"
   ]
  },
  {
   "cell_type": "code",
   "execution_count": 5,
   "id": "ac0d4141",
   "metadata": {},
   "outputs": [
    {
     "data": {
      "text/plain": [
       "0       False\n",
       "1       False\n",
       "2       False\n",
       "3       False\n",
       "4       False\n",
       "        ...  \n",
       "9995    False\n",
       "9996    False\n",
       "9997    False\n",
       "9998    False\n",
       "9999    False\n",
       "Length: 10000, dtype: bool"
      ]
     },
     "execution_count": 5,
     "metadata": {},
     "output_type": "execute_result"
    }
   ],
   "source": [
    "df.duplicated()"
   ]
  },
  {
   "cell_type": "code",
   "execution_count": 6,
   "id": "36e50901",
   "metadata": {},
   "outputs": [
    {
     "data": {
      "text/plain": [
       "Marital\n",
       "Widowed          2045\n",
       "Married          2023\n",
       "Separated        1987\n",
       "Never Married    1984\n",
       "Divorced         1961\n",
       "Name: count, dtype: int64"
      ]
     },
     "execution_count": 6,
     "metadata": {},
     "output_type": "execute_result"
    }
   ],
   "source": [
    "df['Marital'].value_counts()"
   ]
  },
  {
   "cell_type": "code",
   "execution_count": 7,
   "id": "954ca3ff",
   "metadata": {},
   "outputs": [
    {
     "data": {
      "text/plain": [
       "Gender\n",
       "Female       5018\n",
       "Male         4768\n",
       "Nonbinary     214\n",
       "Name: count, dtype: int64"
      ]
     },
     "execution_count": 7,
     "metadata": {},
     "output_type": "execute_result"
    }
   ],
   "source": [
    "df['Gender'].value_counts()"
   ]
  },
  {
   "cell_type": "code",
   "execution_count": 8,
   "id": "d1731683",
   "metadata": {},
   "outputs": [
    {
     "data": {
      "text/plain": [
       "Initial_admin\n",
       "Emergency Admission      5060\n",
       "Elective Admission       2504\n",
       "Observation Admission    2436\n",
       "Name: count, dtype: int64"
      ]
     },
     "execution_count": 8,
     "metadata": {},
     "output_type": "execute_result"
    }
   ],
   "source": [
    "df['Initial_admin'].value_counts()"
   ]
  },
  {
   "cell_type": "code",
   "execution_count": 9,
   "id": "7f656277",
   "metadata": {},
   "outputs": [
    {
     "data": {
      "text/plain": [
       "HighBlood\n",
       "No     5910\n",
       "Yes    4090\n",
       "Name: count, dtype: int64"
      ]
     },
     "execution_count": 9,
     "metadata": {},
     "output_type": "execute_result"
    }
   ],
   "source": [
    "df['HighBlood'].value_counts()"
   ]
  },
  {
   "cell_type": "code",
   "execution_count": 10,
   "id": "97a32a5f",
   "metadata": {},
   "outputs": [
    {
     "data": {
      "text/plain": [
       "Complication_risk\n",
       "Medium    4517\n",
       "High      3358\n",
       "Low       2125\n",
       "Name: count, dtype: int64"
      ]
     },
     "execution_count": 10,
     "metadata": {},
     "output_type": "execute_result"
    }
   ],
   "source": [
    "df['Complication_risk'].value_counts()"
   ]
  },
  {
   "cell_type": "code",
   "execution_count": 11,
   "id": "4a003cc9",
   "metadata": {},
   "outputs": [
    {
     "data": {
      "text/plain": [
       "Overweight\n",
       "Yes    7094\n",
       "No     2906\n",
       "Name: count, dtype: int64"
      ]
     },
     "execution_count": 11,
     "metadata": {},
     "output_type": "execute_result"
    }
   ],
   "source": [
    "df['Overweight'].value_counts()"
   ]
  },
  {
   "cell_type": "code",
   "execution_count": 12,
   "id": "13a43df6",
   "metadata": {},
   "outputs": [
    {
     "data": {
      "text/plain": [
       "Arthritis\n",
       "No     6426\n",
       "Yes    3574\n",
       "Name: count, dtype: int64"
      ]
     },
     "execution_count": 12,
     "metadata": {},
     "output_type": "execute_result"
    }
   ],
   "source": [
    "df['Arthritis'].value_counts()"
   ]
  },
  {
   "cell_type": "code",
   "execution_count": 13,
   "id": "340b8833",
   "metadata": {},
   "outputs": [
    {
     "data": {
      "text/plain": [
       "Diabetes\n",
       "No     7262\n",
       "Yes    2738\n",
       "Name: count, dtype: int64"
      ]
     },
     "execution_count": 13,
     "metadata": {},
     "output_type": "execute_result"
    }
   ],
   "source": [
    "df['Diabetes'].value_counts()"
   ]
  },
  {
   "cell_type": "code",
   "execution_count": 14,
   "id": "2a6f2974",
   "metadata": {},
   "outputs": [
    {
     "data": {
      "text/plain": [
       "BackPain\n",
       "No     5886\n",
       "Yes    4114\n",
       "Name: count, dtype: int64"
      ]
     },
     "execution_count": 14,
     "metadata": {},
     "output_type": "execute_result"
    }
   ],
   "source": [
    "df['BackPain'].value_counts()"
   ]
  },
  {
   "cell_type": "code",
   "execution_count": 15,
   "id": "bea0653a",
   "metadata": {},
   "outputs": [
    {
     "data": {
      "text/plain": [
       "Anxiety\n",
       "No     6785\n",
       "Yes    3215\n",
       "Name: count, dtype: int64"
      ]
     },
     "execution_count": 15,
     "metadata": {},
     "output_type": "execute_result"
    }
   ],
   "source": [
    "df['Anxiety'].value_counts()"
   ]
  },
  {
   "cell_type": "code",
   "execution_count": 16,
   "id": "b3f27214",
   "metadata": {},
   "outputs": [
    {
     "data": {
      "text/plain": [
       "Asthma\n",
       "No     7107\n",
       "Yes    2893\n",
       "Name: count, dtype: int64"
      ]
     },
     "execution_count": 16,
     "metadata": {},
     "output_type": "execute_result"
    }
   ],
   "source": [
    "df['Asthma'].value_counts()"
   ]
  },
  {
   "cell_type": "code",
   "execution_count": 17,
   "id": "c442bfe1",
   "metadata": {},
   "outputs": [
    {
     "data": {
      "text/plain": [
       "Services\n",
       "Blood Work     5265\n",
       "Intravenous    3130\n",
       "CT Scan        1225\n",
       "MRI             380\n",
       "Name: count, dtype: int64"
      ]
     },
     "execution_count": 17,
     "metadata": {},
     "output_type": "execute_result"
    }
   ],
   "source": [
    "df['Services'].value_counts()"
   ]
  },
  {
   "cell_type": "code",
   "execution_count": 18,
   "id": "67a50d8a",
   "metadata": {},
   "outputs": [
    {
     "data": {
      "text/plain": [
       "count    10000.000000\n",
       "mean        53.511700\n",
       "std         20.638538\n",
       "min         18.000000\n",
       "25%         36.000000\n",
       "50%         53.000000\n",
       "75%         71.000000\n",
       "max         89.000000\n",
       "Name: Age, dtype: float64"
      ]
     },
     "execution_count": 18,
     "metadata": {},
     "output_type": "execute_result"
    }
   ],
   "source": [
    "df['Age'].describe()"
   ]
  },
  {
   "cell_type": "code",
   "execution_count": 19,
   "id": "e158ced4",
   "metadata": {},
   "outputs": [
    {
     "data": {
      "text/plain": [
       "count     10000.000000\n",
       "mean      40490.495160\n",
       "std       28521.153293\n",
       "min         154.080000\n",
       "25%       19598.775000\n",
       "50%       33768.420000\n",
       "75%       54296.402500\n",
       "max      207249.100000\n",
       "Name: Income, dtype: float64"
      ]
     },
     "execution_count": 19,
     "metadata": {},
     "output_type": "execute_result"
    }
   ],
   "source": [
    "df['Income'].describe()"
   ]
  },
  {
   "cell_type": "code",
   "execution_count": 20,
   "id": "14614aa9",
   "metadata": {},
   "outputs": [
    {
     "data": {
      "text/plain": [
       "count    10000.000000\n",
       "mean        17.964262\n",
       "std          2.017231\n",
       "min          9.806483\n",
       "25%         16.626439\n",
       "50%         17.951122\n",
       "75%         19.347963\n",
       "max         26.394449\n",
       "Name: VitD_levels, dtype: float64"
      ]
     },
     "execution_count": 20,
     "metadata": {},
     "output_type": "execute_result"
    }
   ],
   "source": [
    "df['VitD_levels'].describe()"
   ]
  },
  {
   "cell_type": "code",
   "execution_count": 21,
   "id": "e5696c0b",
   "metadata": {},
   "outputs": [
    {
     "data": {
      "text/plain": [
       "count    10000.000000\n",
       "mean        34.455299\n",
       "std         26.309341\n",
       "min          1.001981\n",
       "25%          7.896215\n",
       "50%         35.836244\n",
       "75%         61.161020\n",
       "max         71.981490\n",
       "Name: Initial_days, dtype: float64"
      ]
     },
     "execution_count": 21,
     "metadata": {},
     "output_type": "execute_result"
    }
   ],
   "source": [
    "df['Initial_days'].describe()"
   ]
  },
  {
   "cell_type": "code",
   "execution_count": 22,
   "id": "9bca515e",
   "metadata": {},
   "outputs": [
    {
     "data": {
      "text/plain": [
       "count    10000.000000\n",
       "mean      5312.172769\n",
       "std       2180.393838\n",
       "min       1938.312067\n",
       "25%       3179.374015\n",
       "50%       5213.952000\n",
       "75%       7459.699750\n",
       "max       9180.728000\n",
       "Name: TotalCharge, dtype: float64"
      ]
     },
     "execution_count": 22,
     "metadata": {},
     "output_type": "execute_result"
    }
   ],
   "source": [
    "df['TotalCharge'].describe()"
   ]
  },
  {
   "cell_type": "code",
   "execution_count": 23,
   "id": "8cc1ff1b",
   "metadata": {},
   "outputs": [
    {
     "data": {
      "text/html": [
       "<div>\n",
       "<style scoped>\n",
       "    .dataframe tbody tr th:only-of-type {\n",
       "        vertical-align: middle;\n",
       "    }\n",
       "\n",
       "    .dataframe tbody tr th {\n",
       "        vertical-align: top;\n",
       "    }\n",
       "\n",
       "    .dataframe thead th {\n",
       "        text-align: right;\n",
       "    }\n",
       "</style>\n",
       "<table border=\"1\" class=\"dataframe\">\n",
       "  <thead>\n",
       "    <tr style=\"text-align: right;\">\n",
       "      <th></th>\n",
       "      <th>Marital</th>\n",
       "      <th>Gender</th>\n",
       "      <th>Initial_admin</th>\n",
       "      <th>HighBlood</th>\n",
       "      <th>Complication_risk</th>\n",
       "      <th>Arthritis</th>\n",
       "      <th>Overweight</th>\n",
       "      <th>Diabetes</th>\n",
       "      <th>Income</th>\n",
       "      <th>BackPain</th>\n",
       "      <th>Anxiety</th>\n",
       "      <th>Asthma</th>\n",
       "      <th>Services</th>\n",
       "      <th>Age</th>\n",
       "      <th>VitD_levels</th>\n",
       "      <th>Initial_days</th>\n",
       "      <th>TotalCharge</th>\n",
       "    </tr>\n",
       "  </thead>\n",
       "  <tbody>\n",
       "    <tr>\n",
       "      <th>0</th>\n",
       "      <td>Divorced</td>\n",
       "      <td>Male</td>\n",
       "      <td>Emergency Admission</td>\n",
       "      <td>Yes</td>\n",
       "      <td>Medium</td>\n",
       "      <td>Yes</td>\n",
       "      <td>No</td>\n",
       "      <td>Yes</td>\n",
       "      <td>86575.93</td>\n",
       "      <td>Yes</td>\n",
       "      <td>Yes</td>\n",
       "      <td>Yes</td>\n",
       "      <td>Blood Work</td>\n",
       "      <td>53</td>\n",
       "      <td>19.141466</td>\n",
       "      <td>10.585770</td>\n",
       "      <td>3726.702860</td>\n",
       "    </tr>\n",
       "    <tr>\n",
       "      <th>1</th>\n",
       "      <td>Married</td>\n",
       "      <td>Female</td>\n",
       "      <td>Emergency Admission</td>\n",
       "      <td>Yes</td>\n",
       "      <td>High</td>\n",
       "      <td>No</td>\n",
       "      <td>Yes</td>\n",
       "      <td>No</td>\n",
       "      <td>46805.99</td>\n",
       "      <td>No</td>\n",
       "      <td>No</td>\n",
       "      <td>No</td>\n",
       "      <td>Intravenous</td>\n",
       "      <td>51</td>\n",
       "      <td>18.940352</td>\n",
       "      <td>15.129562</td>\n",
       "      <td>4193.190458</td>\n",
       "    </tr>\n",
       "    <tr>\n",
       "      <th>2</th>\n",
       "      <td>Widowed</td>\n",
       "      <td>Female</td>\n",
       "      <td>Elective Admission</td>\n",
       "      <td>Yes</td>\n",
       "      <td>Medium</td>\n",
       "      <td>No</td>\n",
       "      <td>Yes</td>\n",
       "      <td>Yes</td>\n",
       "      <td>14370.14</td>\n",
       "      <td>No</td>\n",
       "      <td>No</td>\n",
       "      <td>No</td>\n",
       "      <td>Blood Work</td>\n",
       "      <td>53</td>\n",
       "      <td>18.057507</td>\n",
       "      <td>4.772177</td>\n",
       "      <td>2434.234222</td>\n",
       "    </tr>\n",
       "    <tr>\n",
       "      <th>3</th>\n",
       "      <td>Married</td>\n",
       "      <td>Male</td>\n",
       "      <td>Elective Admission</td>\n",
       "      <td>No</td>\n",
       "      <td>Medium</td>\n",
       "      <td>Yes</td>\n",
       "      <td>No</td>\n",
       "      <td>No</td>\n",
       "      <td>39741.49</td>\n",
       "      <td>No</td>\n",
       "      <td>No</td>\n",
       "      <td>Yes</td>\n",
       "      <td>Blood Work</td>\n",
       "      <td>78</td>\n",
       "      <td>16.576858</td>\n",
       "      <td>1.714879</td>\n",
       "      <td>2127.830423</td>\n",
       "    </tr>\n",
       "    <tr>\n",
       "      <th>4</th>\n",
       "      <td>Widowed</td>\n",
       "      <td>Female</td>\n",
       "      <td>Elective Admission</td>\n",
       "      <td>No</td>\n",
       "      <td>Low</td>\n",
       "      <td>No</td>\n",
       "      <td>No</td>\n",
       "      <td>No</td>\n",
       "      <td>1209.56</td>\n",
       "      <td>No</td>\n",
       "      <td>No</td>\n",
       "      <td>No</td>\n",
       "      <td>CT Scan</td>\n",
       "      <td>22</td>\n",
       "      <td>17.439069</td>\n",
       "      <td>1.254807</td>\n",
       "      <td>2113.073274</td>\n",
       "    </tr>\n",
       "  </tbody>\n",
       "</table>\n",
       "</div>"
      ],
      "text/plain": [
       "    Marital  Gender        Initial_admin HighBlood Complication_risk  \\\n",
       "0  Divorced    Male  Emergency Admission       Yes            Medium   \n",
       "1   Married  Female  Emergency Admission       Yes              High   \n",
       "2   Widowed  Female   Elective Admission       Yes            Medium   \n",
       "3   Married    Male   Elective Admission        No            Medium   \n",
       "4   Widowed  Female   Elective Admission        No               Low   \n",
       "\n",
       "  Arthritis Overweight Diabetes    Income BackPain Anxiety Asthma  \\\n",
       "0       Yes         No      Yes  86575.93      Yes     Yes    Yes   \n",
       "1        No        Yes       No  46805.99       No      No     No   \n",
       "2        No        Yes      Yes  14370.14       No      No     No   \n",
       "3       Yes         No       No  39741.49       No      No    Yes   \n",
       "4        No         No       No   1209.56       No      No     No   \n",
       "\n",
       "      Services  Age  VitD_levels  Initial_days  TotalCharge  \n",
       "0   Blood Work   53    19.141466     10.585770  3726.702860  \n",
       "1  Intravenous   51    18.940352     15.129562  4193.190458  \n",
       "2   Blood Work   53    18.057507      4.772177  2434.234222  \n",
       "3   Blood Work   78    16.576858      1.714879  2127.830423  \n",
       "4      CT Scan   22    17.439069      1.254807  2113.073274  "
      ]
     },
     "execution_count": 23,
     "metadata": {},
     "output_type": "execute_result"
    }
   ],
   "source": [
    "search_cols = ['Marital', 'Gender', 'Initial_admin', 'HighBlood', 'Complication_risk', 'Arthritis', 'Overweight', 'Diabetes', \n",
    "               'Income', 'BackPain', 'Anxiety', 'Asthma', 'Services', 'Age', 'VitD_levels', 'Initial_days', 'TotalCharge']\n",
    "initial_model = df[search_cols]\n",
    "initial_model.head()"
   ]
  },
  {
   "cell_type": "code",
   "execution_count": 24,
   "id": "a5fd01f2",
   "metadata": {},
   "outputs": [
    {
     "name": "stdout",
     "output_type": "stream",
     "text": [
      "<class 'pandas.core.frame.DataFrame'>\n",
      "RangeIndex: 10000 entries, 0 to 9999\n",
      "Data columns (total 25 columns):\n",
      " #   Column                               Non-Null Count  Dtype  \n",
      "---  ------                               --------------  -----  \n",
      " 0   Income                               10000 non-null  float64\n",
      " 1   Age                                  10000 non-null  int64  \n",
      " 2   VitD_levels                          10000 non-null  float64\n",
      " 3   Initial_days                         10000 non-null  float64\n",
      " 4   TotalCharge                          10000 non-null  float64\n",
      " 5   Marital_Married                      10000 non-null  bool   \n",
      " 6   Marital_Never Married                10000 non-null  bool   \n",
      " 7   Marital_Separated                    10000 non-null  bool   \n",
      " 8   Marital_Widowed                      10000 non-null  bool   \n",
      " 9   Gender_Male                          10000 non-null  bool   \n",
      " 10  Gender_Nonbinary                     10000 non-null  bool   \n",
      " 11  Initial_admin_Emergency Admission    10000 non-null  bool   \n",
      " 12  Initial_admin_Observation Admission  10000 non-null  bool   \n",
      " 13  HighBlood_Yes                        10000 non-null  bool   \n",
      " 14  Complication_risk_Low                10000 non-null  bool   \n",
      " 15  Complication_risk_Medium             10000 non-null  bool   \n",
      " 16  Arthritis_Yes                        10000 non-null  bool   \n",
      " 17  Overweight_Yes                       10000 non-null  bool   \n",
      " 18  Diabetes_Yes                         10000 non-null  bool   \n",
      " 19  BackPain_Yes                         10000 non-null  bool   \n",
      " 20  Anxiety_Yes                          10000 non-null  bool   \n",
      " 21  Asthma_Yes                           10000 non-null  bool   \n",
      " 22  Services_CT Scan                     10000 non-null  bool   \n",
      " 23  Services_Intravenous                 10000 non-null  bool   \n",
      " 24  Services_MRI                         10000 non-null  bool   \n",
      "dtypes: bool(20), float64(4), int64(1)\n",
      "memory usage: 586.1 KB\n"
     ]
    }
   ],
   "source": [
    "one_hot = pd.get_dummies(initial_model, drop_first=True)\n",
    "one_hot.info()"
   ]
  },
  {
   "cell_type": "code",
   "execution_count": 25,
   "id": "fec9fdfb",
   "metadata": {},
   "outputs": [],
   "source": [
    "# update the invalid column names\n",
    "one_hot.rename(columns={'Marital_Never Married':'Marital_Never_Married',\n",
    "                        'Initial_admin_Emergency Admission':'Initial_admin_Emergency_Admission',\n",
    "                        'Initial_admin_Observation Admission':'Initial_admin_Observation_Admission',\n",
    "                        'Services_CT Scan':'Services_CT_Scan'}, inplace=True)"
   ]
  },
  {
   "cell_type": "code",
   "execution_count": 26,
   "id": "53787459",
   "metadata": {},
   "outputs": [
    {
     "name": "stdout",
     "output_type": "stream",
     "text": [
      "<class 'pandas.core.frame.DataFrame'>\n",
      "RangeIndex: 10000 entries, 0 to 9999\n",
      "Data columns (total 25 columns):\n",
      " #   Column                               Non-Null Count  Dtype  \n",
      "---  ------                               --------------  -----  \n",
      " 0   Income                               10000 non-null  float64\n",
      " 1   Age                                  10000 non-null  int64  \n",
      " 2   VitD_levels                          10000 non-null  float64\n",
      " 3   Initial_days                         10000 non-null  float64\n",
      " 4   TotalCharge                          10000 non-null  float64\n",
      " 5   Marital_Married                      10000 non-null  bool   \n",
      " 6   Marital_Never_Married                10000 non-null  bool   \n",
      " 7   Marital_Separated                    10000 non-null  bool   \n",
      " 8   Marital_Widowed                      10000 non-null  bool   \n",
      " 9   Gender_Male                          10000 non-null  bool   \n",
      " 10  Gender_Nonbinary                     10000 non-null  bool   \n",
      " 11  Initial_admin_Emergency_Admission    10000 non-null  bool   \n",
      " 12  Initial_admin_Observation_Admission  10000 non-null  bool   \n",
      " 13  HighBlood_Yes                        10000 non-null  bool   \n",
      " 14  Complication_risk_Low                10000 non-null  bool   \n",
      " 15  Complication_risk_Medium             10000 non-null  bool   \n",
      " 16  Arthritis_Yes                        10000 non-null  bool   \n",
      " 17  Overweight_Yes                       10000 non-null  bool   \n",
      " 18  Diabetes_Yes                         10000 non-null  bool   \n",
      " 19  BackPain_Yes                         10000 non-null  bool   \n",
      " 20  Anxiety_Yes                          10000 non-null  bool   \n",
      " 21  Asthma_Yes                           10000 non-null  bool   \n",
      " 22  Services_CT_Scan                     10000 non-null  bool   \n",
      " 23  Services_Intravenous                 10000 non-null  bool   \n",
      " 24  Services_MRI                         10000 non-null  bool   \n",
      "dtypes: bool(20), float64(4), int64(1)\n",
      "memory usage: 586.1 KB\n"
     ]
    }
   ],
   "source": [
    "one_hot.info()"
   ]
  },
  {
   "cell_type": "code",
   "execution_count": 27,
   "id": "e47b3773",
   "metadata": {},
   "outputs": [
    {
     "data": {
      "text/plain": [
       "['Marital_Married',\n",
       " 'Marital_Never_Married',\n",
       " 'Marital_Separated',\n",
       " 'Marital_Widowed',\n",
       " 'Gender_Male',\n",
       " 'Gender_Nonbinary',\n",
       " 'Initial_admin_Emergency_Admission',\n",
       " 'Initial_admin_Observation_Admission',\n",
       " 'HighBlood_Yes',\n",
       " 'Complication_risk_Low',\n",
       " 'Complication_risk_Medium',\n",
       " 'Arthritis_Yes',\n",
       " 'Overweight_Yes',\n",
       " 'Diabetes_Yes',\n",
       " 'BackPain_Yes',\n",
       " 'Anxiety_Yes',\n",
       " 'Asthma_Yes',\n",
       " 'Services_CT_Scan',\n",
       " 'Services_Intravenous',\n",
       " 'Services_MRI']"
      ]
     },
     "execution_count": 27,
     "metadata": {},
     "output_type": "execute_result"
    }
   ],
   "source": [
    "# update the data type from categorical(bool) to numerical(into64)\n",
    "bool_cols = list(one_hot.select_dtypes(include='bool'))\n",
    "bool_cols"
   ]
  },
  {
   "cell_type": "code",
   "execution_count": 28,
   "id": "4cdf974b",
   "metadata": {},
   "outputs": [
    {
     "name": "stdout",
     "output_type": "stream",
     "text": [
      "<class 'pandas.core.frame.DataFrame'>\n",
      "RangeIndex: 10000 entries, 0 to 9999\n",
      "Data columns (total 25 columns):\n",
      " #   Column                               Non-Null Count  Dtype  \n",
      "---  ------                               --------------  -----  \n",
      " 0   Income                               10000 non-null  float64\n",
      " 1   Age                                  10000 non-null  int64  \n",
      " 2   VitD_levels                          10000 non-null  float64\n",
      " 3   Initial_days                         10000 non-null  float64\n",
      " 4   TotalCharge                          10000 non-null  float64\n",
      " 5   Marital_Married                      10000 non-null  int64  \n",
      " 6   Marital_Never_Married                10000 non-null  int64  \n",
      " 7   Marital_Separated                    10000 non-null  int64  \n",
      " 8   Marital_Widowed                      10000 non-null  int64  \n",
      " 9   Gender_Male                          10000 non-null  int64  \n",
      " 10  Gender_Nonbinary                     10000 non-null  int64  \n",
      " 11  Initial_admin_Emergency_Admission    10000 non-null  int64  \n",
      " 12  Initial_admin_Observation_Admission  10000 non-null  int64  \n",
      " 13  HighBlood_Yes                        10000 non-null  int64  \n",
      " 14  Complication_risk_Low                10000 non-null  int64  \n",
      " 15  Complication_risk_Medium             10000 non-null  int64  \n",
      " 16  Arthritis_Yes                        10000 non-null  int64  \n",
      " 17  Overweight_Yes                       10000 non-null  int64  \n",
      " 18  Diabetes_Yes                         10000 non-null  int64  \n",
      " 19  BackPain_Yes                         10000 non-null  int64  \n",
      " 20  Anxiety_Yes                          10000 non-null  int64  \n",
      " 21  Asthma_Yes                           10000 non-null  int64  \n",
      " 22  Services_CT_Scan                     10000 non-null  int64  \n",
      " 23  Services_Intravenous                 10000 non-null  int64  \n",
      " 24  Services_MRI                         10000 non-null  int64  \n",
      "dtypes: float64(4), int64(21)\n",
      "memory usage: 1.9 MB\n"
     ]
    }
   ],
   "source": [
    "for col in bool_cols:\n",
    "    one_hot[col] = one_hot[col].astype(dtype='int64')\n",
    "    \n",
    "one_hot.info()"
   ]
  },
  {
   "cell_type": "code",
   "execution_count": 29,
   "id": "b1795db8",
   "metadata": {},
   "outputs": [
    {
     "data": {
      "text/html": [
       "<div>\n",
       "<style scoped>\n",
       "    .dataframe tbody tr th:only-of-type {\n",
       "        vertical-align: middle;\n",
       "    }\n",
       "\n",
       "    .dataframe tbody tr th {\n",
       "        vertical-align: top;\n",
       "    }\n",
       "\n",
       "    .dataframe thead th {\n",
       "        text-align: right;\n",
       "    }\n",
       "</style>\n",
       "<table border=\"1\" class=\"dataframe\">\n",
       "  <thead>\n",
       "    <tr style=\"text-align: right;\">\n",
       "      <th></th>\n",
       "      <th>Income</th>\n",
       "      <th>Age</th>\n",
       "      <th>VitD_levels</th>\n",
       "      <th>Initial_days</th>\n",
       "      <th>TotalCharge</th>\n",
       "      <th>Marital_Married</th>\n",
       "      <th>Marital_Never_Married</th>\n",
       "      <th>Marital_Separated</th>\n",
       "      <th>Marital_Widowed</th>\n",
       "      <th>Gender_Male</th>\n",
       "      <th>...</th>\n",
       "      <th>Complication_risk_Medium</th>\n",
       "      <th>Arthritis_Yes</th>\n",
       "      <th>Overweight_Yes</th>\n",
       "      <th>Diabetes_Yes</th>\n",
       "      <th>BackPain_Yes</th>\n",
       "      <th>Anxiety_Yes</th>\n",
       "      <th>Asthma_Yes</th>\n",
       "      <th>Services_CT_Scan</th>\n",
       "      <th>Services_Intravenous</th>\n",
       "      <th>Services_MRI</th>\n",
       "    </tr>\n",
       "  </thead>\n",
       "  <tbody>\n",
       "    <tr>\n",
       "      <th>0</th>\n",
       "      <td>86575.93</td>\n",
       "      <td>53</td>\n",
       "      <td>19.141466</td>\n",
       "      <td>10.585770</td>\n",
       "      <td>3726.702860</td>\n",
       "      <td>0</td>\n",
       "      <td>0</td>\n",
       "      <td>0</td>\n",
       "      <td>0</td>\n",
       "      <td>1</td>\n",
       "      <td>...</td>\n",
       "      <td>1</td>\n",
       "      <td>1</td>\n",
       "      <td>0</td>\n",
       "      <td>1</td>\n",
       "      <td>1</td>\n",
       "      <td>1</td>\n",
       "      <td>1</td>\n",
       "      <td>0</td>\n",
       "      <td>0</td>\n",
       "      <td>0</td>\n",
       "    </tr>\n",
       "    <tr>\n",
       "      <th>1</th>\n",
       "      <td>46805.99</td>\n",
       "      <td>51</td>\n",
       "      <td>18.940352</td>\n",
       "      <td>15.129562</td>\n",
       "      <td>4193.190458</td>\n",
       "      <td>1</td>\n",
       "      <td>0</td>\n",
       "      <td>0</td>\n",
       "      <td>0</td>\n",
       "      <td>0</td>\n",
       "      <td>...</td>\n",
       "      <td>0</td>\n",
       "      <td>0</td>\n",
       "      <td>1</td>\n",
       "      <td>0</td>\n",
       "      <td>0</td>\n",
       "      <td>0</td>\n",
       "      <td>0</td>\n",
       "      <td>0</td>\n",
       "      <td>1</td>\n",
       "      <td>0</td>\n",
       "    </tr>\n",
       "    <tr>\n",
       "      <th>2</th>\n",
       "      <td>14370.14</td>\n",
       "      <td>53</td>\n",
       "      <td>18.057507</td>\n",
       "      <td>4.772177</td>\n",
       "      <td>2434.234222</td>\n",
       "      <td>0</td>\n",
       "      <td>0</td>\n",
       "      <td>0</td>\n",
       "      <td>1</td>\n",
       "      <td>0</td>\n",
       "      <td>...</td>\n",
       "      <td>1</td>\n",
       "      <td>0</td>\n",
       "      <td>1</td>\n",
       "      <td>1</td>\n",
       "      <td>0</td>\n",
       "      <td>0</td>\n",
       "      <td>0</td>\n",
       "      <td>0</td>\n",
       "      <td>0</td>\n",
       "      <td>0</td>\n",
       "    </tr>\n",
       "    <tr>\n",
       "      <th>3</th>\n",
       "      <td>39741.49</td>\n",
       "      <td>78</td>\n",
       "      <td>16.576858</td>\n",
       "      <td>1.714879</td>\n",
       "      <td>2127.830423</td>\n",
       "      <td>1</td>\n",
       "      <td>0</td>\n",
       "      <td>0</td>\n",
       "      <td>0</td>\n",
       "      <td>1</td>\n",
       "      <td>...</td>\n",
       "      <td>1</td>\n",
       "      <td>1</td>\n",
       "      <td>0</td>\n",
       "      <td>0</td>\n",
       "      <td>0</td>\n",
       "      <td>0</td>\n",
       "      <td>1</td>\n",
       "      <td>0</td>\n",
       "      <td>0</td>\n",
       "      <td>0</td>\n",
       "    </tr>\n",
       "    <tr>\n",
       "      <th>4</th>\n",
       "      <td>1209.56</td>\n",
       "      <td>22</td>\n",
       "      <td>17.439069</td>\n",
       "      <td>1.254807</td>\n",
       "      <td>2113.073274</td>\n",
       "      <td>0</td>\n",
       "      <td>0</td>\n",
       "      <td>0</td>\n",
       "      <td>1</td>\n",
       "      <td>0</td>\n",
       "      <td>...</td>\n",
       "      <td>0</td>\n",
       "      <td>0</td>\n",
       "      <td>0</td>\n",
       "      <td>0</td>\n",
       "      <td>0</td>\n",
       "      <td>0</td>\n",
       "      <td>0</td>\n",
       "      <td>1</td>\n",
       "      <td>0</td>\n",
       "      <td>0</td>\n",
       "    </tr>\n",
       "  </tbody>\n",
       "</table>\n",
       "<p>5 rows × 25 columns</p>\n",
       "</div>"
      ],
      "text/plain": [
       "     Income  Age  VitD_levels  Initial_days  TotalCharge  Marital_Married  \\\n",
       "0  86575.93   53    19.141466     10.585770  3726.702860                0   \n",
       "1  46805.99   51    18.940352     15.129562  4193.190458                1   \n",
       "2  14370.14   53    18.057507      4.772177  2434.234222                0   \n",
       "3  39741.49   78    16.576858      1.714879  2127.830423                1   \n",
       "4   1209.56   22    17.439069      1.254807  2113.073274                0   \n",
       "\n",
       "   Marital_Never_Married  Marital_Separated  Marital_Widowed  Gender_Male  \\\n",
       "0                      0                  0                0            1   \n",
       "1                      0                  0                0            0   \n",
       "2                      0                  0                1            0   \n",
       "3                      0                  0                0            1   \n",
       "4                      0                  0                1            0   \n",
       "\n",
       "   ...  Complication_risk_Medium  Arthritis_Yes  Overweight_Yes  Diabetes_Yes  \\\n",
       "0  ...                         1              1               0             1   \n",
       "1  ...                         0              0               1             0   \n",
       "2  ...                         1              0               1             1   \n",
       "3  ...                         1              1               0             0   \n",
       "4  ...                         0              0               0             0   \n",
       "\n",
       "   BackPain_Yes  Anxiety_Yes  Asthma_Yes  Services_CT_Scan  \\\n",
       "0             1            1           1                 0   \n",
       "1             0            0           0                 0   \n",
       "2             0            0           0                 0   \n",
       "3             0            0           1                 0   \n",
       "4             0            0           0                 1   \n",
       "\n",
       "   Services_Intravenous  Services_MRI  \n",
       "0                     0             0  \n",
       "1                     1             0  \n",
       "2                     0             0  \n",
       "3                     0             0  \n",
       "4                     0             0  \n",
       "\n",
       "[5 rows x 25 columns]"
      ]
     },
     "execution_count": 29,
     "metadata": {},
     "output_type": "execute_result"
    }
   ],
   "source": [
    "one_hot.head()"
   ]
  },
  {
   "cell_type": "code",
   "execution_count": 30,
   "id": "0de14cb4",
   "metadata": {},
   "outputs": [
    {
     "data": {
      "text/html": [
       "<div>\n",
       "<style scoped>\n",
       "    .dataframe tbody tr th:only-of-type {\n",
       "        vertical-align: middle;\n",
       "    }\n",
       "\n",
       "    .dataframe tbody tr th {\n",
       "        vertical-align: top;\n",
       "    }\n",
       "\n",
       "    .dataframe thead th {\n",
       "        text-align: right;\n",
       "    }\n",
       "</style>\n",
       "<table border=\"1\" class=\"dataframe\">\n",
       "  <thead>\n",
       "    <tr style=\"text-align: right;\">\n",
       "      <th></th>\n",
       "      <th>Income</th>\n",
       "      <th>Age</th>\n",
       "      <th>VitD_levels</th>\n",
       "      <th>Initial_days</th>\n",
       "      <th>TotalCharge</th>\n",
       "      <th>Marital_Married</th>\n",
       "      <th>Marital_Never_Married</th>\n",
       "      <th>Marital_Separated</th>\n",
       "      <th>Marital_Widowed</th>\n",
       "      <th>Gender_Male</th>\n",
       "      <th>...</th>\n",
       "      <th>Complication_risk_Medium</th>\n",
       "      <th>Arthritis_Yes</th>\n",
       "      <th>Overweight_Yes</th>\n",
       "      <th>Diabetes_Yes</th>\n",
       "      <th>BackPain_Yes</th>\n",
       "      <th>Anxiety_Yes</th>\n",
       "      <th>Asthma_Yes</th>\n",
       "      <th>Services_CT_Scan</th>\n",
       "      <th>Services_Intravenous</th>\n",
       "      <th>Services_MRI</th>\n",
       "    </tr>\n",
       "  </thead>\n",
       "  <tbody>\n",
       "    <tr>\n",
       "      <th>0</th>\n",
       "      <td>0.417305</td>\n",
       "      <td>0.492958</td>\n",
       "      <td>0.562756</td>\n",
       "      <td>0.135022</td>\n",
       "      <td>0.246933</td>\n",
       "      <td>0.0</td>\n",
       "      <td>0.0</td>\n",
       "      <td>0.0</td>\n",
       "      <td>0.0</td>\n",
       "      <td>1.0</td>\n",
       "      <td>...</td>\n",
       "      <td>1.0</td>\n",
       "      <td>1.0</td>\n",
       "      <td>0.0</td>\n",
       "      <td>1.0</td>\n",
       "      <td>1.0</td>\n",
       "      <td>1.0</td>\n",
       "      <td>1.0</td>\n",
       "      <td>0.0</td>\n",
       "      <td>0.0</td>\n",
       "      <td>0.0</td>\n",
       "    </tr>\n",
       "    <tr>\n",
       "      <th>1</th>\n",
       "      <td>0.225268</td>\n",
       "      <td>0.464789</td>\n",
       "      <td>0.550632</td>\n",
       "      <td>0.199037</td>\n",
       "      <td>0.311343</td>\n",
       "      <td>1.0</td>\n",
       "      <td>0.0</td>\n",
       "      <td>0.0</td>\n",
       "      <td>0.0</td>\n",
       "      <td>0.0</td>\n",
       "      <td>...</td>\n",
       "      <td>0.0</td>\n",
       "      <td>0.0</td>\n",
       "      <td>1.0</td>\n",
       "      <td>0.0</td>\n",
       "      <td>0.0</td>\n",
       "      <td>0.0</td>\n",
       "      <td>0.0</td>\n",
       "      <td>0.0</td>\n",
       "      <td>1.0</td>\n",
       "      <td>0.0</td>\n",
       "    </tr>\n",
       "    <tr>\n",
       "      <th>2</th>\n",
       "      <td>0.068645</td>\n",
       "      <td>0.492958</td>\n",
       "      <td>0.497410</td>\n",
       "      <td>0.053117</td>\n",
       "      <td>0.068475</td>\n",
       "      <td>0.0</td>\n",
       "      <td>0.0</td>\n",
       "      <td>0.0</td>\n",
       "      <td>1.0</td>\n",
       "      <td>0.0</td>\n",
       "      <td>...</td>\n",
       "      <td>1.0</td>\n",
       "      <td>0.0</td>\n",
       "      <td>1.0</td>\n",
       "      <td>1.0</td>\n",
       "      <td>0.0</td>\n",
       "      <td>0.0</td>\n",
       "      <td>0.0</td>\n",
       "      <td>0.0</td>\n",
       "      <td>0.0</td>\n",
       "      <td>0.0</td>\n",
       "    </tr>\n",
       "    <tr>\n",
       "      <th>3</th>\n",
       "      <td>0.191156</td>\n",
       "      <td>0.845070</td>\n",
       "      <td>0.408150</td>\n",
       "      <td>0.010044</td>\n",
       "      <td>0.026168</td>\n",
       "      <td>1.0</td>\n",
       "      <td>0.0</td>\n",
       "      <td>0.0</td>\n",
       "      <td>0.0</td>\n",
       "      <td>1.0</td>\n",
       "      <td>...</td>\n",
       "      <td>1.0</td>\n",
       "      <td>1.0</td>\n",
       "      <td>0.0</td>\n",
       "      <td>0.0</td>\n",
       "      <td>0.0</td>\n",
       "      <td>0.0</td>\n",
       "      <td>1.0</td>\n",
       "      <td>0.0</td>\n",
       "      <td>0.0</td>\n",
       "      <td>0.0</td>\n",
       "    </tr>\n",
       "    <tr>\n",
       "      <th>4</th>\n",
       "      <td>0.005097</td>\n",
       "      <td>0.056338</td>\n",
       "      <td>0.460128</td>\n",
       "      <td>0.003562</td>\n",
       "      <td>0.024130</td>\n",
       "      <td>0.0</td>\n",
       "      <td>0.0</td>\n",
       "      <td>0.0</td>\n",
       "      <td>1.0</td>\n",
       "      <td>0.0</td>\n",
       "      <td>...</td>\n",
       "      <td>0.0</td>\n",
       "      <td>0.0</td>\n",
       "      <td>0.0</td>\n",
       "      <td>0.0</td>\n",
       "      <td>0.0</td>\n",
       "      <td>0.0</td>\n",
       "      <td>0.0</td>\n",
       "      <td>1.0</td>\n",
       "      <td>0.0</td>\n",
       "      <td>0.0</td>\n",
       "    </tr>\n",
       "  </tbody>\n",
       "</table>\n",
       "<p>5 rows × 25 columns</p>\n",
       "</div>"
      ],
      "text/plain": [
       "     Income       Age  VitD_levels  Initial_days  TotalCharge  \\\n",
       "0  0.417305  0.492958     0.562756      0.135022     0.246933   \n",
       "1  0.225268  0.464789     0.550632      0.199037     0.311343   \n",
       "2  0.068645  0.492958     0.497410      0.053117     0.068475   \n",
       "3  0.191156  0.845070     0.408150      0.010044     0.026168   \n",
       "4  0.005097  0.056338     0.460128      0.003562     0.024130   \n",
       "\n",
       "   Marital_Married  Marital_Never_Married  Marital_Separated  Marital_Widowed  \\\n",
       "0              0.0                    0.0                0.0              0.0   \n",
       "1              1.0                    0.0                0.0              0.0   \n",
       "2              0.0                    0.0                0.0              1.0   \n",
       "3              1.0                    0.0                0.0              0.0   \n",
       "4              0.0                    0.0                0.0              1.0   \n",
       "\n",
       "   Gender_Male  ...  Complication_risk_Medium  Arthritis_Yes  Overweight_Yes  \\\n",
       "0          1.0  ...                       1.0            1.0             0.0   \n",
       "1          0.0  ...                       0.0            0.0             1.0   \n",
       "2          0.0  ...                       1.0            0.0             1.0   \n",
       "3          1.0  ...                       1.0            1.0             0.0   \n",
       "4          0.0  ...                       0.0            0.0             0.0   \n",
       "\n",
       "   Diabetes_Yes  BackPain_Yes  Anxiety_Yes  Asthma_Yes  Services_CT_Scan  \\\n",
       "0           1.0           1.0          1.0         1.0               0.0   \n",
       "1           0.0           0.0          0.0         0.0               0.0   \n",
       "2           1.0           0.0          0.0         0.0               0.0   \n",
       "3           0.0           0.0          0.0         1.0               0.0   \n",
       "4           0.0           0.0          0.0         0.0               1.0   \n",
       "\n",
       "   Services_Intravenous  Services_MRI  \n",
       "0                   0.0           0.0  \n",
       "1                   1.0           0.0  \n",
       "2                   0.0           0.0  \n",
       "3                   0.0           0.0  \n",
       "4                   0.0           0.0  \n",
       "\n",
       "[5 rows x 25 columns]"
      ]
     },
     "execution_count": 30,
     "metadata": {},
     "output_type": "execute_result"
    }
   ],
   "source": [
    "# normalize the numeric values\n",
    "one_hot_scaled = pd.DataFrame(MinMaxScaler().fit_transform(one_hot), columns=one_hot.columns)\n",
    "one_hot_scaled.head()"
   ]
  },
  {
   "cell_type": "code",
   "execution_count": 31,
   "id": "4d1383f9",
   "metadata": {},
   "outputs": [],
   "source": [
    "one_hot_scaled.to_csv('final.csv')"
   ]
  },
  {
   "cell_type": "code",
   "execution_count": 32,
   "id": "991cf574",
   "metadata": {},
   "outputs": [],
   "source": [
    "# define X\n",
    "init_feats = one_hot_scaled.columns.values.tolist()\n",
    "init_feats.remove(\"TotalCharge\")\n",
    "\n",
    "X = one_hot_scaled[init_feats]\n",
    "y = one_hot_scaled[\"TotalCharge\"]\n",
    "\n",
    "# split the data to training & test set\n",
    "X_train, X_test, y_train, y_test = train_test_split(X, y, test_size=0.3, random_state=42)"
   ]
  },
  {
   "cell_type": "code",
   "execution_count": 33,
   "id": "e921319f",
   "metadata": {},
   "outputs": [],
   "source": [
    "# save each X/y and test/train set to csv\n",
    "X_train.to_csv('X_Train.csv')\n",
    "X_test.to_csv('X_Test.csv')\n",
    "y_train.to_csv('y_Train.csv')\n",
    "y_test.to_csv('y_Test.csv')"
   ]
  },
  {
   "cell_type": "code",
   "execution_count": 34,
   "id": "77be0082",
   "metadata": {},
   "outputs": [],
   "source": [
    "# identify optimal value for parameters using hyperparameter tuning\n",
    "params_rfr = {\"n_estimators\": np.arange(500, 2000, 250),\n",
    "              \"max_depth\": np.arange(5, 40, 5),\n",
    "              \"min_samples_leaf\": np.arange(0.01, 0.2, 0.04)\n",
    "            }\n",
    "\n",
    "# initiate RandomForestRegressor\n",
    "rfr = RandomForestRegressor(random_state=15, bootstrap=True, max_features='sqrt')"
   ]
  },
  {
   "cell_type": "code",
   "execution_count": 35,
   "id": "a657e540",
   "metadata": {},
   "outputs": [
    {
     "data": {
      "text/html": [
       "<style>#sk-container-id-1 {color: black;background-color: white;}#sk-container-id-1 pre{padding: 0;}#sk-container-id-1 div.sk-toggleable {background-color: white;}#sk-container-id-1 label.sk-toggleable__label {cursor: pointer;display: block;width: 100%;margin-bottom: 0;padding: 0.3em;box-sizing: border-box;text-align: center;}#sk-container-id-1 label.sk-toggleable__label-arrow:before {content: \"▸\";float: left;margin-right: 0.25em;color: #696969;}#sk-container-id-1 label.sk-toggleable__label-arrow:hover:before {color: black;}#sk-container-id-1 div.sk-estimator:hover label.sk-toggleable__label-arrow:before {color: black;}#sk-container-id-1 div.sk-toggleable__content {max-height: 0;max-width: 0;overflow: hidden;text-align: left;background-color: #f0f8ff;}#sk-container-id-1 div.sk-toggleable__content pre {margin: 0.2em;color: black;border-radius: 0.25em;background-color: #f0f8ff;}#sk-container-id-1 input.sk-toggleable__control:checked~div.sk-toggleable__content {max-height: 200px;max-width: 100%;overflow: auto;}#sk-container-id-1 input.sk-toggleable__control:checked~label.sk-toggleable__label-arrow:before {content: \"▾\";}#sk-container-id-1 div.sk-estimator input.sk-toggleable__control:checked~label.sk-toggleable__label {background-color: #d4ebff;}#sk-container-id-1 div.sk-label input.sk-toggleable__control:checked~label.sk-toggleable__label {background-color: #d4ebff;}#sk-container-id-1 input.sk-hidden--visually {border: 0;clip: rect(1px 1px 1px 1px);clip: rect(1px, 1px, 1px, 1px);height: 1px;margin: -1px;overflow: hidden;padding: 0;position: absolute;width: 1px;}#sk-container-id-1 div.sk-estimator {font-family: monospace;background-color: #f0f8ff;border: 1px dotted black;border-radius: 0.25em;box-sizing: border-box;margin-bottom: 0.5em;}#sk-container-id-1 div.sk-estimator:hover {background-color: #d4ebff;}#sk-container-id-1 div.sk-parallel-item::after {content: \"\";width: 100%;border-bottom: 1px solid gray;flex-grow: 1;}#sk-container-id-1 div.sk-label:hover label.sk-toggleable__label {background-color: #d4ebff;}#sk-container-id-1 div.sk-serial::before {content: \"\";position: absolute;border-left: 1px solid gray;box-sizing: border-box;top: 0;bottom: 0;left: 50%;z-index: 0;}#sk-container-id-1 div.sk-serial {display: flex;flex-direction: column;align-items: center;background-color: white;padding-right: 0.2em;padding-left: 0.2em;position: relative;}#sk-container-id-1 div.sk-item {position: relative;z-index: 1;}#sk-container-id-1 div.sk-parallel {display: flex;align-items: stretch;justify-content: center;background-color: white;position: relative;}#sk-container-id-1 div.sk-item::before, #sk-container-id-1 div.sk-parallel-item::before {content: \"\";position: absolute;border-left: 1px solid gray;box-sizing: border-box;top: 0;bottom: 0;left: 50%;z-index: -1;}#sk-container-id-1 div.sk-parallel-item {display: flex;flex-direction: column;z-index: 1;position: relative;background-color: white;}#sk-container-id-1 div.sk-parallel-item:first-child::after {align-self: flex-end;width: 50%;}#sk-container-id-1 div.sk-parallel-item:last-child::after {align-self: flex-start;width: 50%;}#sk-container-id-1 div.sk-parallel-item:only-child::after {width: 0;}#sk-container-id-1 div.sk-dashed-wrapped {border: 1px dashed gray;margin: 0 0.4em 0.5em 0.4em;box-sizing: border-box;padding-bottom: 0.4em;background-color: white;}#sk-container-id-1 div.sk-label label {font-family: monospace;font-weight: bold;display: inline-block;line-height: 1.2em;}#sk-container-id-1 div.sk-label-container {text-align: center;}#sk-container-id-1 div.sk-container {/* jupyter's `normalize.less` sets `[hidden] { display: none; }` but bootstrap.min.css set `[hidden] { display: none !important; }` so we also need the `!important` here to be able to override the default hidden behavior on the sphinx rendered scikit-learn.org. See: https://github.com/scikit-learn/scikit-learn/issues/21755 */display: inline-block !important;position: relative;}#sk-container-id-1 div.sk-text-repr-fallback {display: none;}</style><div id=\"sk-container-id-1\" class=\"sk-top-container\"><div class=\"sk-text-repr-fallback\"><pre>RandomizedSearchCV(cv=5,\n",
       "                   estimator=RandomForestRegressor(max_features=&#x27;sqrt&#x27;,\n",
       "                                                   random_state=15),\n",
       "                   param_distributions={&#x27;max_depth&#x27;: array([ 5, 10, 15, 20, 25, 30, 35]),\n",
       "                                        &#x27;min_samples_leaf&#x27;: array([0.01, 0.05, 0.09, 0.13, 0.17]),\n",
       "                                        &#x27;n_estimators&#x27;: array([ 500,  750, 1000, 1250, 1500, 1750])},\n",
       "                   scoring=&#x27;neg_mean_squared_error&#x27;)</pre><b>In a Jupyter environment, please rerun this cell to show the HTML representation or trust the notebook. <br />On GitHub, the HTML representation is unable to render, please try loading this page with nbviewer.org.</b></div><div class=\"sk-container\" hidden><div class=\"sk-item sk-dashed-wrapped\"><div class=\"sk-label-container\"><div class=\"sk-label sk-toggleable\"><input class=\"sk-toggleable__control sk-hidden--visually\" id=\"sk-estimator-id-1\" type=\"checkbox\" ><label for=\"sk-estimator-id-1\" class=\"sk-toggleable__label sk-toggleable__label-arrow\">RandomizedSearchCV</label><div class=\"sk-toggleable__content\"><pre>RandomizedSearchCV(cv=5,\n",
       "                   estimator=RandomForestRegressor(max_features=&#x27;sqrt&#x27;,\n",
       "                                                   random_state=15),\n",
       "                   param_distributions={&#x27;max_depth&#x27;: array([ 5, 10, 15, 20, 25, 30, 35]),\n",
       "                                        &#x27;min_samples_leaf&#x27;: array([0.01, 0.05, 0.09, 0.13, 0.17]),\n",
       "                                        &#x27;n_estimators&#x27;: array([ 500,  750, 1000, 1250, 1500, 1750])},\n",
       "                   scoring=&#x27;neg_mean_squared_error&#x27;)</pre></div></div></div><div class=\"sk-parallel\"><div class=\"sk-parallel-item\"><div class=\"sk-item\"><div class=\"sk-label-container\"><div class=\"sk-label sk-toggleable\"><input class=\"sk-toggleable__control sk-hidden--visually\" id=\"sk-estimator-id-2\" type=\"checkbox\" ><label for=\"sk-estimator-id-2\" class=\"sk-toggleable__label sk-toggleable__label-arrow\">estimator: RandomForestRegressor</label><div class=\"sk-toggleable__content\"><pre>RandomForestRegressor(max_features=&#x27;sqrt&#x27;, random_state=15)</pre></div></div></div><div class=\"sk-serial\"><div class=\"sk-item\"><div class=\"sk-estimator sk-toggleable\"><input class=\"sk-toggleable__control sk-hidden--visually\" id=\"sk-estimator-id-3\" type=\"checkbox\" ><label for=\"sk-estimator-id-3\" class=\"sk-toggleable__label sk-toggleable__label-arrow\">RandomForestRegressor</label><div class=\"sk-toggleable__content\"><pre>RandomForestRegressor(max_features=&#x27;sqrt&#x27;, random_state=15)</pre></div></div></div></div></div></div></div></div></div></div>"
      ],
      "text/plain": [
       "RandomizedSearchCV(cv=5,\n",
       "                   estimator=RandomForestRegressor(max_features='sqrt',\n",
       "                                                   random_state=15),\n",
       "                   param_distributions={'max_depth': array([ 5, 10, 15, 20, 25, 30, 35]),\n",
       "                                        'min_samples_leaf': array([0.01, 0.05, 0.09, 0.13, 0.17]),\n",
       "                                        'n_estimators': array([ 500,  750, 1000, 1250, 1500, 1750])},\n",
       "                   scoring='neg_mean_squared_error')"
      ]
     },
     "execution_count": 35,
     "metadata": {},
     "output_type": "execute_result"
    }
   ],
   "source": [
    "# initiate 5-fold CV grid (Naik)\n",
    "grid_rfr = RandomizedSearchCV(estimator=rfr, param_distributions=params_rfr, scoring='neg_mean_squared_error', cv=5)\n",
    "\n",
    "#fit 'grid_rfr' to training data\n",
    "grid_rfr.fit(X_train, y_train)"
   ]
  },
  {
   "cell_type": "code",
   "execution_count": 36,
   "id": "5b76c661",
   "metadata": {},
   "outputs": [
    {
     "name": "stdout",
     "output_type": "stream",
     "text": [
      "Best Hyperparameters:  {'n_estimators': 500, 'min_samples_leaf': 0.01, 'max_depth': 15}\n",
      "Best Training Score:  0.8524231394524944\n",
      "Best Test Score:  0.8478543077594669\n"
     ]
    }
   ],
   "source": [
    "# extract best hyperparameters from grid_dt\n",
    "print('Best Hyperparameters: ', grid_rfr.best_params_)\n",
    "print('Best Training Score: ', grid_rfr.best_estimator_.score(X_train, y_train))\n",
    "print('Best Test Score: ', grid_rfr.best_estimator_.score(X_test, y_test))"
   ]
  },
  {
   "cell_type": "code",
   "execution_count": 37,
   "id": "b5d68f50",
   "metadata": {},
   "outputs": [],
   "source": [
    "# fit the DecisionTree with the best parameters\n",
    "best_rfr = RandomForestRegressor(max_depth=15, min_samples_leaf=0.01, n_estimators=500)\n",
    "best_rfr.fit(X_train, y_train)\n",
    "y_train_pred = best_rfr.predict(X_train)\n",
    "y_test_pred = best_rfr.predict(X_test)"
   ]
  },
  {
   "cell_type": "code",
   "execution_count": 38,
   "id": "7c72fad1",
   "metadata": {},
   "outputs": [
    {
     "name": "stdout",
     "output_type": "stream",
     "text": [
      "Training MSE:  0.0006839090360933408\n",
      "Training RMSE:  0.0261516545574719\n",
      "Training R-squared:  0.9924260294046223\n"
     ]
    }
   ],
   "source": [
    "# calculate MSE & RMSE for training set\n",
    "print(\"Training MSE: \", mean_squared_error(y_train, y_train_pred))\n",
    "print(\"Training RMSE: \", mean_squared_error(y_train, y_train_pred)**(1/2))\n",
    "print(\"Training R-squared: \", r2_score(y_train, y_train_pred))"
   ]
  },
  {
   "cell_type": "code",
   "execution_count": 39,
   "id": "0e7e70e4",
   "metadata": {},
   "outputs": [
    {
     "name": "stdout",
     "output_type": "stream",
     "text": [
      "Test MSE:  0.0007370961573024453\n",
      "Test RMSE:  0.02714951486311395\n",
      "Test R-squared:  0.9919280050269824\n"
     ]
    }
   ],
   "source": [
    "# calculate MSE & RMSE for test set\n",
    "print(\"Test MSE: \", mean_squared_error(y_test, y_test_pred))\n",
    "print(\"Test RMSE: \", mean_squared_error(y_test, y_test_pred)**(1/2))\n",
    "print(\"Test R-squared: \", r2_score(y_test, y_test_pred))"
   ]
  },
  {
   "cell_type": "code",
   "execution_count": 40,
   "id": "fc64a007",
   "metadata": {},
   "outputs": [
    {
     "data": {
      "image/png": "[encoded data removed]",
      "text/plain": [
       "<Figure size 640x480 with 1 Axes>"
      ]
     },
     "metadata": {},
     "output_type": "display_data"
    }
   ],
   "source": [
    "# create a pd.Series of features importances\n",
    "importances = pd.Series(data=grid_rfr.best_estimator_.feature_importances_,\n",
    "                        index = X_train.columns)\n",
    "# sort importances\n",
    "importances_sorted = importances.sort_values()\n",
    "\n",
    "# draw a horizontal barplot of importances_sorted\n",
    "importances_sorted.plot(kind='barh', color='lightgreen')\n",
    "plt.title('Features Importances')\n",
    "plt.show()"
   ]
  },
  {
   "cell_type": "code",
   "execution_count": null,
   "id": "cfb9c726",
   "metadata": {},
   "outputs": [],
   "source": []
  }
 ],
 "metadata": {
  "kernelspec": {
   "display_name": "Python 3 (ipykernel)",
   "language": "python",
   "name": "python3"
  },
  "language_info": {
   "codemirror_mode": {
    "name": "ipython",
    "version": 3
   },
   "file_extension": ".py",
   "mimetype": "text/x-python",
   "name": "python",
   "nbconvert_exporter": "python",
   "pygments_lexer": "ipython3",
   "version": "3.11.7"
  }
 },
 "nbformat": 4,
 "nbformat_minor": 5
}
