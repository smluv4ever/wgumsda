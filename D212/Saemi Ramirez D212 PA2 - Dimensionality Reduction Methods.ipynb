{
 "cells": [
  {
   "cell_type": "code",
   "execution_count": 18,
   "id": "d29bf549",
   "metadata": {},
   "outputs": [],
   "source": [
    "import pandas as pd\n",
    "import numpy as np\n",
    "import seaborn as sns\n",
    "import matplotlib.pyplot as plt\n",
    "from sklearn.preprocessing import StandardScaler\n",
    "from sklearn.decomposition import PCA"
   ]
  },
  {
   "cell_type": "code",
   "execution_count": 19,
   "id": "ca82e75d",
   "metadata": {},
   "outputs": [
    {
     "name": "stdout",
     "output_type": "stream",
     "text": [
      "<class 'pandas.core.frame.DataFrame'>\n",
      "RangeIndex: 10000 entries, 0 to 9999\n",
      "Data columns (total 50 columns):\n",
      " #   Column              Non-Null Count  Dtype  \n",
      "---  ------              --------------  -----  \n",
      " 0   CaseOrder           10000 non-null  int64  \n",
      " 1   Customer_id         10000 non-null  object \n",
      " 2   Interaction         10000 non-null  object \n",
      " 3   UID                 10000 non-null  object \n",
      " 4   City                10000 non-null  object \n",
      " 5   State               10000 non-null  object \n",
      " 6   County              10000 non-null  object \n",
      " 7   Zip                 10000 non-null  int64  \n",
      " 8   Lat                 10000 non-null  float64\n",
      " 9   Lng                 10000 non-null  float64\n",
      " 10  Population          10000 non-null  int64  \n",
      " 11  Area                10000 non-null  object \n",
      " 12  TimeZone            10000 non-null  object \n",
      " 13  Job                 10000 non-null  object \n",
      " 14  Children            10000 non-null  int64  \n",
      " 15  Age                 10000 non-null  int64  \n",
      " 16  Income              10000 non-null  float64\n",
      " 17  Marital             10000 non-null  object \n",
      " 18  Gender              10000 non-null  object \n",
      " 19  ReAdmis             10000 non-null  object \n",
      " 20  VitD_levels         10000 non-null  float64\n",
      " 21  Doc_visits          10000 non-null  int64  \n",
      " 22  Full_meals_eaten    10000 non-null  int64  \n",
      " 23  vitD_supp           10000 non-null  int64  \n",
      " 24  Soft_drink          10000 non-null  object \n",
      " 25  Initial_admin       10000 non-null  object \n",
      " 26  HighBlood           10000 non-null  object \n",
      " 27  Stroke              10000 non-null  object \n",
      " 28  Complication_risk   10000 non-null  object \n",
      " 29  Overweight          10000 non-null  object \n",
      " 30  Arthritis           10000 non-null  object \n",
      " 31  Diabetes            10000 non-null  object \n",
      " 32  Hyperlipidemia      10000 non-null  object \n",
      " 33  BackPain            10000 non-null  object \n",
      " 34  Anxiety             10000 non-null  object \n",
      " 35  Allergic_rhinitis   10000 non-null  object \n",
      " 36  Reflux_esophagitis  10000 non-null  object \n",
      " 37  Asthma              10000 non-null  object \n",
      " 38  Services            10000 non-null  object \n",
      " 39  Initial_days        10000 non-null  float64\n",
      " 40  TotalCharge         10000 non-null  float64\n",
      " 41  Additional_charges  10000 non-null  float64\n",
      " 42  Item1               10000 non-null  int64  \n",
      " 43  Item2               10000 non-null  int64  \n",
      " 44  Item3               10000 non-null  int64  \n",
      " 45  Item4               10000 non-null  int64  \n",
      " 46  Item5               10000 non-null  int64  \n",
      " 47  Item6               10000 non-null  int64  \n",
      " 48  Item7               10000 non-null  int64  \n",
      " 49  Item8               10000 non-null  int64  \n",
      "dtypes: float64(7), int64(16), object(27)\n",
      "memory usage: 3.8+ MB\n"
     ]
    }
   ],
   "source": [
    "# read the CSV file\n",
    "df = pd.read_csv(r'C:\\Users\\Saemi\\OneDrive\\Education\\WGU\\D212 Data Mining II\\PA\\Dataset - Medical\\medical_clean.csv')\n",
    "# check the data information\n",
    "df.info()"
   ]
  },
  {
   "cell_type": "code",
   "execution_count": 20,
   "id": "695ff3cf",
   "metadata": {},
   "outputs": [
    {
     "data": {
      "text/plain": [
       "Index(['CaseOrder', 'Customer_id', 'Interaction', 'UID', 'City', 'State',\n",
       "       'County', 'Zip', 'Lat', 'Lng', 'Population', 'Area', 'TimeZone', 'Job',\n",
       "       'Children', 'Age', 'Income', 'Marital', 'Gender', 'ReAdmis',\n",
       "       'VitD_levels', 'Doc_visits', 'Full_meals_eaten', 'vitD_supp',\n",
       "       'Soft_drink', 'Initial_admin', 'HighBlood', 'Stroke',\n",
       "       'Complication_risk', 'Overweight', 'Arthritis', 'Diabetes',\n",
       "       'Hyperlipidemia', 'BackPain', 'Anxiety', 'Allergic_rhinitis',\n",
       "       'Reflux_esophagitis', 'Asthma', 'Services', 'Initial_days',\n",
       "       'TotalCharge', 'Additional_charges', 'Item1', 'Item2', 'Item3', 'Item4',\n",
       "       'Item5', 'Item6', 'Item7', 'Item8'],\n",
       "      dtype='object')"
      ]
     },
     "execution_count": 20,
     "metadata": {},
     "output_type": "execute_result"
    }
   ],
   "source": [
    "df.columns"
   ]
  },
  {
   "cell_type": "code",
   "execution_count": 21,
   "id": "ee555476",
   "metadata": {},
   "outputs": [
    {
     "data": {
      "text/plain": [
       "(10000, 50)"
      ]
     },
     "execution_count": 21,
     "metadata": {},
     "output_type": "execute_result"
    }
   ],
   "source": [
    "df.shape"
   ]
  },
  {
   "cell_type": "code",
   "execution_count": 22,
   "id": "a4c1dc36",
   "metadata": {},
   "outputs": [
    {
     "data": {
      "text/plain": [
       "Index(['CaseOrder', 'Zip', 'Lat', 'Lng', 'Population', 'Children', 'Age',\n",
       "       'Income', 'VitD_levels', 'Doc_visits', 'Full_meals_eaten', 'vitD_supp',\n",
       "       'Initial_days', 'TotalCharge', 'Additional_charges', 'Item1', 'Item2',\n",
       "       'Item3', 'Item4', 'Item5', 'Item6', 'Item7', 'Item8'],\n",
       "      dtype='object')"
      ]
     },
     "execution_count": 22,
     "metadata": {},
     "output_type": "execute_result"
    }
   ],
   "source": [
    "#Select numerical variables by removing the object columns\n",
    "df1 = df.select_dtypes(exclude = 'object')\n",
    "df1.columns"
   ]
  },
  {
   "cell_type": "code",
   "execution_count": 23,
   "id": "89ad9705",
   "metadata": {},
   "outputs": [
    {
     "data": {
      "text/plain": [
       "Index(['Population', 'Children', 'Age', 'Income', 'VitD_levels', 'Doc_visits',\n",
       "       'Full_meals_eaten', 'vitD_supp', 'Initial_days', 'TotalCharge',\n",
       "       'Additional_charges'],\n",
       "      dtype='object')"
      ]
     },
     "execution_count": 23,
     "metadata": {},
     "output_type": "execute_result"
    }
   ],
   "source": [
    "cont_df = df1.drop(['CaseOrder', 'Zip', 'Lat', 'Lng', 'Item1', 'Item2', 'Item3', 'Item4', 'Item5', 'Item6', 'Item7', \n",
    "                    'Item8'], axis=1)\n",
    "cont_df.columns"
   ]
  },
  {
   "cell_type": "code",
   "execution_count": 24,
   "id": "192dba46",
   "metadata": {},
   "outputs": [
    {
     "data": {
      "text/plain": [
       "(10000, 11)"
      ]
     },
     "execution_count": 24,
     "metadata": {},
     "output_type": "execute_result"
    }
   ],
   "source": [
    "cont_df.shape"
   ]
  },
  {
   "cell_type": "code",
   "execution_count": 25,
   "id": "e6ea077b",
   "metadata": {},
   "outputs": [],
   "source": [
    "#Normalize the data using StandardScaler()\n",
    "scaler = StandardScaler()\n",
    "norm_df = scaler.fit_transform(cont_df)"
   ]
  },
  {
   "cell_type": "code",
   "execution_count": 26,
   "id": "81e4de21",
   "metadata": {},
   "outputs": [
    {
     "data": {
      "text/html": [
       "<div>\n",
       "<style scoped>\n",
       "    .dataframe tbody tr th:only-of-type {\n",
       "        vertical-align: middle;\n",
       "    }\n",
       "\n",
       "    .dataframe tbody tr th {\n",
       "        vertical-align: top;\n",
       "    }\n",
       "\n",
       "    .dataframe thead th {\n",
       "        text-align: right;\n",
       "    }\n",
       "</style>\n",
       "<table border=\"1\" class=\"dataframe\">\n",
       "  <thead>\n",
       "    <tr style=\"text-align: right;\">\n",
       "      <th></th>\n",
       "      <th>Population</th>\n",
       "      <th>Children</th>\n",
       "      <th>Age</th>\n",
       "      <th>Income</th>\n",
       "      <th>VitD_levels</th>\n",
       "      <th>Doc_visits</th>\n",
       "      <th>Full_meals_eaten</th>\n",
       "      <th>vitD_supp</th>\n",
       "      <th>Initial_days</th>\n",
       "      <th>TotalCharge</th>\n",
       "      <th>Additional_charges</th>\n",
       "    </tr>\n",
       "  </thead>\n",
       "  <tbody>\n",
       "    <tr>\n",
       "      <th>0</th>\n",
       "      <td>-0.473168</td>\n",
       "      <td>-0.507129</td>\n",
       "      <td>-0.024795</td>\n",
       "      <td>1.615914</td>\n",
       "      <td>0.583603</td>\n",
       "      <td>0.944647</td>\n",
       "      <td>-0.993387</td>\n",
       "      <td>-0.634713</td>\n",
       "      <td>-0.907310</td>\n",
       "      <td>-0.727185</td>\n",
       "      <td>0.765005</td>\n",
       "    </tr>\n",
       "    <tr>\n",
       "      <th>1</th>\n",
       "      <td>0.090242</td>\n",
       "      <td>0.417277</td>\n",
       "      <td>-0.121706</td>\n",
       "      <td>0.221443</td>\n",
       "      <td>0.483901</td>\n",
       "      <td>-0.967981</td>\n",
       "      <td>0.990609</td>\n",
       "      <td>0.956445</td>\n",
       "      <td>-0.734595</td>\n",
       "      <td>-0.513228</td>\n",
       "      <td>0.715114</td>\n",
       "    </tr>\n",
       "    <tr>\n",
       "      <th>2</th>\n",
       "      <td>0.482983</td>\n",
       "      <td>0.417277</td>\n",
       "      <td>-0.024795</td>\n",
       "      <td>-0.915870</td>\n",
       "      <td>0.046227</td>\n",
       "      <td>-0.967981</td>\n",
       "      <td>-0.001389</td>\n",
       "      <td>-0.634713</td>\n",
       "      <td>-1.128292</td>\n",
       "      <td>-1.319983</td>\n",
       "      <td>0.698635</td>\n",
       "    </tr>\n",
       "    <tr>\n",
       "      <th>3</th>\n",
       "      <td>-0.526393</td>\n",
       "      <td>-0.969332</td>\n",
       "      <td>1.186592</td>\n",
       "      <td>-0.026263</td>\n",
       "      <td>-0.687811</td>\n",
       "      <td>-0.967981</td>\n",
       "      <td>-0.001389</td>\n",
       "      <td>-0.634713</td>\n",
       "      <td>-1.244503</td>\n",
       "      <td>-1.460517</td>\n",
       "      <td>0.009004</td>\n",
       "    </tr>\n",
       "    <tr>\n",
       "      <th>4</th>\n",
       "      <td>-0.315586</td>\n",
       "      <td>-0.507129</td>\n",
       "      <td>-1.526914</td>\n",
       "      <td>-1.377325</td>\n",
       "      <td>-0.260366</td>\n",
       "      <td>-0.011667</td>\n",
       "      <td>-0.993387</td>\n",
       "      <td>2.547602</td>\n",
       "      <td>-1.261991</td>\n",
       "      <td>-1.467285</td>\n",
       "      <td>-1.408991</td>\n",
       "    </tr>\n",
       "  </tbody>\n",
       "</table>\n",
       "</div>"
      ],
      "text/plain": [
       "   Population  Children       Age    Income  VitD_levels  Doc_visits  \\\n",
       "0   -0.473168 -0.507129 -0.024795  1.615914     0.583603    0.944647   \n",
       "1    0.090242  0.417277 -0.121706  0.221443     0.483901   -0.967981   \n",
       "2    0.482983  0.417277 -0.024795 -0.915870     0.046227   -0.967981   \n",
       "3   -0.526393 -0.969332  1.186592 -0.026263    -0.687811   -0.967981   \n",
       "4   -0.315586 -0.507129 -1.526914 -1.377325    -0.260366   -0.011667   \n",
       "\n",
       "   Full_meals_eaten  vitD_supp  Initial_days  TotalCharge  Additional_charges  \n",
       "0         -0.993387  -0.634713     -0.907310    -0.727185            0.765005  \n",
       "1          0.990609   0.956445     -0.734595    -0.513228            0.715114  \n",
       "2         -0.001389  -0.634713     -1.128292    -1.319983            0.698635  \n",
       "3         -0.001389  -0.634713     -1.244503    -1.460517            0.009004  \n",
       "4         -0.993387   2.547602     -1.261991    -1.467285           -1.408991  "
      ]
     },
     "execution_count": 26,
     "metadata": {},
     "output_type": "execute_result"
    }
   ],
   "source": [
    "scaled_df = pd.DataFrame(norm_df, columns = cont_df.columns)\n",
    "scaled_df.to_csv('scaled_df.csv', index = False)\n",
    "scaled_df.head()"
   ]
  },
  {
   "cell_type": "code",
   "execution_count": 27,
   "id": "d21914de",
   "metadata": {},
   "outputs": [],
   "source": [
    "#Perform PCA on transformed data & create loading matrix\n",
    "pca = PCA()\n",
    "PC = pca.fit_transform(scaled_df)"
   ]
  },
  {
   "cell_type": "code",
   "execution_count": 28,
   "id": "a6a4a789",
   "metadata": {},
   "outputs": [
    {
     "data": {
      "text/html": [
       "<div>\n",
       "<style scoped>\n",
       "    .dataframe tbody tr th:only-of-type {\n",
       "        vertical-align: middle;\n",
       "    }\n",
       "\n",
       "    .dataframe tbody tr th {\n",
       "        vertical-align: top;\n",
       "    }\n",
       "\n",
       "    .dataframe thead th {\n",
       "        text-align: right;\n",
       "    }\n",
       "</style>\n",
       "<table border=\"1\" class=\"dataframe\">\n",
       "  <thead>\n",
       "    <tr style=\"text-align: right;\">\n",
       "      <th></th>\n",
       "      <th>Population</th>\n",
       "      <th>Children</th>\n",
       "      <th>Age</th>\n",
       "      <th>Income</th>\n",
       "      <th>VitD_levels</th>\n",
       "      <th>Doc_visits</th>\n",
       "      <th>Full_meals_eaten</th>\n",
       "      <th>vitD_supp</th>\n",
       "      <th>Initial_days</th>\n",
       "      <th>TotalCharge</th>\n",
       "      <th>Additional_charges</th>\n",
       "    </tr>\n",
       "  </thead>\n",
       "  <tbody>\n",
       "    <tr>\n",
       "      <th>PC1</th>\n",
       "      <td>0.024451</td>\n",
       "      <td>0.034520</td>\n",
       "      <td>0.084872</td>\n",
       "      <td>-0.020184</td>\n",
       "      <td>-0.002039</td>\n",
       "      <td>-0.006889</td>\n",
       "      <td>-0.020703</td>\n",
       "      <td>0.025366</td>\n",
       "      <td>0.700222</td>\n",
       "      <td>0.701358</td>\n",
       "      <td>0.085223</td>\n",
       "    </tr>\n",
       "    <tr>\n",
       "      <th>PC2</th>\n",
       "      <td>-0.028354</td>\n",
       "      <td>0.017410</td>\n",
       "      <td>0.700762</td>\n",
       "      <td>-0.019046</td>\n",
       "      <td>0.020437</td>\n",
       "      <td>0.015447</td>\n",
       "      <td>0.032146</td>\n",
       "      <td>0.014522</td>\n",
       "      <td>-0.090235</td>\n",
       "      <td>-0.079643</td>\n",
       "      <td>0.700769</td>\n",
       "    </tr>\n",
       "    <tr>\n",
       "      <th>PC3</th>\n",
       "      <td>0.421855</td>\n",
       "      <td>-0.096731</td>\n",
       "      <td>0.023524</td>\n",
       "      <td>0.325252</td>\n",
       "      <td>-0.359913</td>\n",
       "      <td>0.213144</td>\n",
       "      <td>-0.603613</td>\n",
       "      <td>0.407015</td>\n",
       "      <td>-0.018411</td>\n",
       "      <td>-0.019610</td>\n",
       "      <td>0.025242</td>\n",
       "    </tr>\n",
       "    <tr>\n",
       "      <th>PC4</th>\n",
       "      <td>0.370209</td>\n",
       "      <td>0.349000</td>\n",
       "      <td>-0.017159</td>\n",
       "      <td>0.196995</td>\n",
       "      <td>0.572300</td>\n",
       "      <td>0.593922</td>\n",
       "      <td>0.129858</td>\n",
       "      <td>-0.069521</td>\n",
       "      <td>-0.005489</td>\n",
       "      <td>-0.002230</td>\n",
       "      <td>-0.006438</td>\n",
       "    </tr>\n",
       "    <tr>\n",
       "      <th>PC5</th>\n",
       "      <td>-0.235896</td>\n",
       "      <td>0.518807</td>\n",
       "      <td>0.006689</td>\n",
       "      <td>0.658378</td>\n",
       "      <td>-0.328573</td>\n",
       "      <td>-0.106642</td>\n",
       "      <td>0.030406</td>\n",
       "      <td>-0.348283</td>\n",
       "      <td>0.006565</td>\n",
       "      <td>0.004801</td>\n",
       "      <td>0.007919</td>\n",
       "    </tr>\n",
       "    <tr>\n",
       "      <th>PC6</th>\n",
       "      <td>0.349305</td>\n",
       "      <td>0.626415</td>\n",
       "      <td>-0.003294</td>\n",
       "      <td>-0.322788</td>\n",
       "      <td>0.133583</td>\n",
       "      <td>-0.545545</td>\n",
       "      <td>-0.228783</td>\n",
       "      <td>0.106250</td>\n",
       "      <td>-0.034373</td>\n",
       "      <td>-0.033307</td>\n",
       "      <td>0.001302</td>\n",
       "    </tr>\n",
       "    <tr>\n",
       "      <th>PC7</th>\n",
       "      <td>-0.479600</td>\n",
       "      <td>0.279715</td>\n",
       "      <td>-0.024529</td>\n",
       "      <td>0.081858</td>\n",
       "      <td>0.092902</td>\n",
       "      <td>0.072843</td>\n",
       "      <td>0.172002</td>\n",
       "      <td>0.799985</td>\n",
       "      <td>-0.005664</td>\n",
       "      <td>-0.005328</td>\n",
       "      <td>-0.029719</td>\n",
       "    </tr>\n",
       "    <tr>\n",
       "      <th>PC8</th>\n",
       "      <td>0.222540</td>\n",
       "      <td>-0.352459</td>\n",
       "      <td>0.008834</td>\n",
       "      <td>0.554281</td>\n",
       "      <td>0.414384</td>\n",
       "      <td>-0.535509</td>\n",
       "      <td>0.184049</td>\n",
       "      <td>0.161924</td>\n",
       "      <td>0.009234</td>\n",
       "      <td>0.009057</td>\n",
       "      <td>0.014130</td>\n",
       "    </tr>\n",
       "    <tr>\n",
       "      <th>PC9</th>\n",
       "      <td>0.475576</td>\n",
       "      <td>0.057534</td>\n",
       "      <td>-0.014554</td>\n",
       "      <td>-0.055190</td>\n",
       "      <td>-0.486165</td>\n",
       "      <td>0.021685</td>\n",
       "      <td>0.707448</td>\n",
       "      <td>0.172815</td>\n",
       "      <td>-0.004640</td>\n",
       "      <td>-0.002110</td>\n",
       "      <td>0.007697</td>\n",
       "    </tr>\n",
       "    <tr>\n",
       "      <th>PC10</th>\n",
       "      <td>0.014389</td>\n",
       "      <td>0.003628</td>\n",
       "      <td>0.706573</td>\n",
       "      <td>0.002259</td>\n",
       "      <td>-0.002326</td>\n",
       "      <td>0.001013</td>\n",
       "      <td>0.010803</td>\n",
       "      <td>0.000433</td>\n",
       "      <td>0.031468</td>\n",
       "      <td>-0.031443</td>\n",
       "      <td>-0.705993</td>\n",
       "    </tr>\n",
       "    <tr>\n",
       "      <th>PC11</th>\n",
       "      <td>-0.000930</td>\n",
       "      <td>-0.000922</td>\n",
       "      <td>0.026245</td>\n",
       "      <td>0.001296</td>\n",
       "      <td>-0.001492</td>\n",
       "      <td>-0.001099</td>\n",
       "      <td>-0.001629</td>\n",
       "      <td>-0.000599</td>\n",
       "      <td>-0.706275</td>\n",
       "      <td>0.706490</td>\n",
       "      <td>-0.036721</td>\n",
       "    </tr>\n",
       "  </tbody>\n",
       "</table>\n",
       "</div>"
      ],
      "text/plain": [
       "      Population  Children       Age    Income  VitD_levels  Doc_visits  \\\n",
       "PC1     0.024451  0.034520  0.084872 -0.020184    -0.002039   -0.006889   \n",
       "PC2    -0.028354  0.017410  0.700762 -0.019046     0.020437    0.015447   \n",
       "PC3     0.421855 -0.096731  0.023524  0.325252    -0.359913    0.213144   \n",
       "PC4     0.370209  0.349000 -0.017159  0.196995     0.572300    0.593922   \n",
       "PC5    -0.235896  0.518807  0.006689  0.658378    -0.328573   -0.106642   \n",
       "PC6     0.349305  0.626415 -0.003294 -0.322788     0.133583   -0.545545   \n",
       "PC7    -0.479600  0.279715 -0.024529  0.081858     0.092902    0.072843   \n",
       "PC8     0.222540 -0.352459  0.008834  0.554281     0.414384   -0.535509   \n",
       "PC9     0.475576  0.057534 -0.014554 -0.055190    -0.486165    0.021685   \n",
       "PC10    0.014389  0.003628  0.706573  0.002259    -0.002326    0.001013   \n",
       "PC11   -0.000930 -0.000922  0.026245  0.001296    -0.001492   -0.001099   \n",
       "\n",
       "      Full_meals_eaten  vitD_supp  Initial_days  TotalCharge  \\\n",
       "PC1          -0.020703   0.025366      0.700222     0.701358   \n",
       "PC2           0.032146   0.014522     -0.090235    -0.079643   \n",
       "PC3          -0.603613   0.407015     -0.018411    -0.019610   \n",
       "PC4           0.129858  -0.069521     -0.005489    -0.002230   \n",
       "PC5           0.030406  -0.348283      0.006565     0.004801   \n",
       "PC6          -0.228783   0.106250     -0.034373    -0.033307   \n",
       "PC7           0.172002   0.799985     -0.005664    -0.005328   \n",
       "PC8           0.184049   0.161924      0.009234     0.009057   \n",
       "PC9           0.707448   0.172815     -0.004640    -0.002110   \n",
       "PC10          0.010803   0.000433      0.031468    -0.031443   \n",
       "PC11         -0.001629  -0.000599     -0.706275     0.706490   \n",
       "\n",
       "      Additional_charges  \n",
       "PC1             0.085223  \n",
       "PC2             0.700769  \n",
       "PC3             0.025242  \n",
       "PC4            -0.006438  \n",
       "PC5             0.007919  \n",
       "PC6             0.001302  \n",
       "PC7            -0.029719  \n",
       "PC8             0.014130  \n",
       "PC9             0.007697  \n",
       "PC10           -0.705993  \n",
       "PC11           -0.036721  "
      ]
     },
     "execution_count": 28,
     "metadata": {},
     "output_type": "execute_result"
    }
   ],
   "source": [
    "loading_matrix = pd.DataFrame(pca.components_, columns = cont_df.columns, index=('PC1', 'PC2', 'PC3', 'PC4', 'PC5', 'PC6', \n",
    "                                                                                 'PC7', 'PC8', 'PC9', 'PC10', 'PC11'))\n",
    "loading_matrix"
   ]
  },
  {
   "cell_type": "code",
   "execution_count": 29,
   "id": "4aa82127",
   "metadata": {},
   "outputs": [
    {
     "data": {
      "text/plain": [
       "array([1.99519311, 1.71541814, 1.05092806, 1.01946663, 1.00651666,\n",
       "       0.99712274, 0.98732133, 0.97060474, 0.96333931, 0.28347439,\n",
       "       0.01171501])"
      ]
     },
     "execution_count": 29,
     "metadata": {},
     "output_type": "execute_result"
    }
   ],
   "source": [
    "#11 Eivenvalues from Kaiser Criterion\n",
    "var = pca.explained_variance_\n",
    "var"
   ]
  },
  {
   "cell_type": "code",
   "execution_count": 32,
   "id": "e27c3fc9",
   "metadata": {},
   "outputs": [],
   "source": [
    "# create a numpy array so that index starts with 1 instead of 0\n",
    "pcomp = np.arange(pca.n_components_) + 1"
   ]
  },
  {
   "cell_type": "code",
   "execution_count": 38,
   "id": "c448e1ee",
   "metadata": {},
   "outputs": [
    {
     "data": {
      "image/png": "[encoded data removed]",
      "text/plain": [
       "<Figure size 800x400 with 1 Axes>"
      ]
     },
     "metadata": {},
     "output_type": "display_data"
    }
   ],
   "source": [
    "plt.figure(figsize = (8,4))\n",
    "plt.plot(pcomp, var, \"b-\")\n",
    "plt.title(\"Scree Plot - Elbow Method\", fontsize = 16)\n",
    "plt.xlabel(\"Number of Components\", fontsize = 16)\n",
    "plt.ylabel(\"Variance Proportion\", fontsize = 16)\n",
    "plt.axhline(y = 1, color='g', linestyle = 'dashdot')\n",
    "plt.grid()\n",
    "plt.show()"
   ]
  },
  {
   "cell_type": "code",
   "execution_count": 39,
   "id": "c31ffc52",
   "metadata": {},
   "outputs": [
    {
     "name": "stdout",
     "output_type": "stream",
     "text": [
      "{'PC1': 1, 'PC2': 2, 'PC3': 3, 'PC4': 4, 'PC5': 5}\n"
     ]
    }
   ],
   "source": [
    "#Significant components identified by the Kaiser Criterion rule\n",
    "print(dict(zip(['PC1', 'PC2', 'PC3', 'PC4', 'PC5'], pcomp)))"
   ]
  },
  {
   "cell_type": "code",
   "execution_count": 40,
   "id": "591142c6",
   "metadata": {},
   "outputs": [
    {
     "name": "stdout",
     "output_type": "stream",
     "text": [
      "Variance of the first 5 principal components:\n",
      "[1.99519311 1.71541814 1.05092806 1.01946663 1.00651666]\n"
     ]
    }
   ],
   "source": [
    "#Variance/eigenvalue of each pc identified by the Kaiser Criterion rule\n",
    "print(\"Variance of the first 5 principal components:\")\n",
    "print(pca.explained_variance_[:5])"
   ]
  },
  {
   "cell_type": "code",
   "execution_count": 41,
   "id": "fa64350c",
   "metadata": {},
   "outputs": [
    {
     "data": {
      "text/plain": [
       "array([18.1363054 , 15.59315087,  9.55293603,  9.26695167,  9.14923641])"
      ]
     },
     "execution_count": 41,
     "metadata": {},
     "output_type": "execute_result"
    }
   ],
   "source": [
    "#Explained Variance Ratio of the first 5 principal components\n",
    "var_ratio = pca.explained_variance_ratio_[:5] * 100\n",
    "var_ratio"
   ]
  },
  {
   "cell_type": "code",
   "execution_count": 42,
   "id": "73fc1615",
   "metadata": {},
   "outputs": [
    {
     "data": {
      "text/plain": [
       "61.69858037665163"
      ]
     },
     "execution_count": 42,
     "metadata": {},
     "output_type": "execute_result"
    }
   ],
   "source": [
    "#Sum of the those 5 ratios\n",
    "total_variance_captured = sum(var_ratio)\n",
    "total_variance_captured"
   ]
  },
  {
   "cell_type": "code",
   "execution_count": 23,
   "id": "f691470f",
   "metadata": {},
   "outputs": [],
   "source": [
    "# I started with 11 continous variables and 11 PCs for PCA (Principal Component Analysis).\n",
    "# After using the Kaiser Criterion method, I decided to have 5 principal components which represent approximately 62% of the original dataset.\n",
    "# 5 principal components were selected from the Kaiser Criterion method because it is considered to be important if it is greater than 1 which is the standard deviation after normalizing the data"
   ]
  },
  {
   "cell_type": "code",
   "execution_count": null,
   "id": "83bca26a",
   "metadata": {},
   "outputs": [],
   "source": []
  }
 ],
 "metadata": {
  "kernelspec": {
   "display_name": "Python 3 (ipykernel)",
   "language": "python",
   "name": "python3"
  },
  "language_info": {
   "codemirror_mode": {
    "name": "ipython",
    "version": 3
   },
   "file_extension": ".py",
   "mimetype": "text/x-python",
   "name": "python",
   "nbconvert_exporter": "python",
   "pygments_lexer": "ipython3",
   "version": "3.11.7"
  }
 },
 "nbformat": 4,
 "nbformat_minor": 5
}
